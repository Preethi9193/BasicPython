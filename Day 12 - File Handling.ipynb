{
 "cells": [
  {
   "cell_type": "markdown",
   "metadata": {},
   "source": [
    "## Todays\n",
    "\n",
    "- File and file operations"
   ]
  },
  {
   "cell_type": "markdown",
   "metadata": {},
   "source": [
    "File: File is a collection is records / Loaction to the related \n",
    "information in the disk\n",
    "\n",
    "- file operations are\n",
    "     - open file -> \n",
    "         - read r+,r -> Read the file from existing file\n",
    "         - write w+,w -> Write data to new file/ if file exist remove all the data and add new data\n",
    "         - append a+,a -> Write the data to the existing file\n",
    "     - do some operations\n",
    "         - read the data\n",
    "         - write the data\n",
    "     - close\n",
    " \n",
    " \n",
    "- all data should be in strings\n"
   ]
  },
  {
   "cell_type": "code",
   "execution_count": 1,
   "metadata": {},
   "outputs": [
    {
     "data": {
      "text/plain": [
       "'C:\\\\Users\\\\DILEEP\\\\Desktop\\\\Data science Internship may-2021'"
      ]
     },
     "execution_count": 1,
     "metadata": {},
     "output_type": "execute_result"
    }
   ],
   "source": [
    "pwd{}"
   ]
  },
  {
   "cell_type": "code",
   "execution_count": 3,
   "metadata": {},
   "outputs": [
    {
     "name": "stdout",
     "output_type": "stream",
     "text": [
      "5\n"
     ]
    }
   ],
   "source": [
    "# creation of file\n",
    "\n",
    "fopen = open('data.txt','w+')\n",
    "fw = fopen.write(\"hello\")\n",
    "print(fw)\n",
    "fopen.close()"
   ]
  },
  {
   "cell_type": "code",
   "execution_count": 4,
   "metadata": {},
   "outputs": [
    {
     "name": "stdout",
     "output_type": "stream",
     "text": [
      "90\n"
     ]
    }
   ],
   "source": [
    "fadd = open('data.txt','a+')\n",
    "fa = fadd.write(\"Everyone\\n\" * 10)\n",
    "print(fa)\n",
    "fadd.close()"
   ]
  },
  {
   "cell_type": "code",
   "execution_count": 6,
   "metadata": {},
   "outputs": [
    {
     "name": "stdout",
     "output_type": "stream",
     "text": [
      "helloEveryone\n",
      "Everyone\n",
      "Everyone\n",
      "Everyone\n",
      "Everyone\n",
      "Everyone\n",
      "Everyone\n",
      "Everyone\n",
      "Everyone\n",
      "Everyone\n",
      "\n"
     ]
    }
   ],
   "source": [
    "fread = open('data.txt','r+')\n",
    "fr = fread.read()\n",
    "print(fr)\n",
    "fread.close()"
   ]
  },
  {
   "cell_type": "code",
   "execution_count": 8,
   "metadata": {},
   "outputs": [
    {
     "name": "stdout",
     "output_type": "stream",
     "text": [
      "['helloEveryone\\n', 'Everyone\\n', 'Everyone\\n', 'Everyone\\n', 'Everyone\\n', 'Everyone\\n', 'Everyone\\n', 'Everyone\\n', 'Everyone\\n', 'Everyone\\n']\n"
     ]
    }
   ],
   "source": [
    "fread = open('data.txt','r+')\n",
    "fr = fread.readlines()\n",
    "print(fr)\n",
    "fread.close()"
   ]
  },
  {
   "cell_type": "code",
   "execution_count": 10,
   "metadata": {},
   "outputs": [
    {
     "name": "stdout",
     "output_type": "stream",
     "text": [
      "2\n"
     ]
    }
   ],
   "source": [
    "with open ('data1.txt','w') as fo:\n",
    "    ff = fo.write(\"hi\")\n",
    "    print(ff)\n",
    "fo.close()"
   ]
  },
  {
   "cell_type": "code",
   "execution_count": 11,
   "metadata": {},
   "outputs": [
    {
     "ename": "ValueError",
     "evalue": "I/O operation on closed file.",
     "output_type": "error",
     "traceback": [
      "\u001b[1;31m---------------------------------------------------------------------------\u001b[0m",
      "\u001b[1;31mValueError\u001b[0m                                Traceback (most recent call last)",
      "\u001b[1;32m<ipython-input-11-21e7b89f0bae>\u001b[0m in \u001b[0;36m<module>\u001b[1;34m\u001b[0m\n\u001b[1;32m----> 1\u001b[1;33m \u001b[0mff\u001b[0m \u001b[1;33m=\u001b[0m \u001b[0mfo\u001b[0m\u001b[1;33m.\u001b[0m\u001b[0mread\u001b[0m\u001b[1;33m(\u001b[0m\u001b[1;33m)\u001b[0m\u001b[1;33m\u001b[0m\u001b[1;33m\u001b[0m\u001b[0m\n\u001b[0m",
      "\u001b[1;31mValueError\u001b[0m: I/O operation on closed file."
     ]
    }
   ],
   "source": [
    "ff = fo.read()"
   ]
  },
  {
   "cell_type": "markdown",
   "metadata": {},
   "source": [
    "checking in the file how many no of words, how many no of  lines, no of charaters "
   ]
  },
  {
   "cell_type": "code",
   "execution_count": 30,
   "metadata": {},
   "outputs": [
    {
     "name": "stdout",
     "output_type": "stream",
     "text": [
      "11\n"
     ]
    }
   ],
   "source": [
    "# How many no of lines in a file\n",
    "with open('data.txt','r') as fg:\n",
    "    k = fg.read()\n",
    "    count = 0\n",
    "    for i in k:\n",
    "        if i == '\\n':\n",
    "            count += 1\n",
    "    print(count)\n",
    "fg.close()"
   ]
  },
  {
   "cell_type": "code",
   "execution_count": 37,
   "metadata": {},
   "outputs": [
    {
     "name": "stdout",
     "output_type": "stream",
     "text": [
      "No of lines in a file 22\n",
      "No of words in a file 21\n"
     ]
    }
   ],
   "source": [
    "# No of words in a file\n",
    "with open('data.txt','r') as fg:\n",
    "    k = fg.read()\n",
    "    count = 1\n",
    "    words = 1\n",
    "    for i in k:\n",
    "        if i == '\\n':\n",
    "            count += 1\n",
    "            words = k.split()\n",
    "    print(\"No of lines in a file\",count)\n",
    "    print(\"No of words in a file\",len(words))\n",
    "fg.close()"
   ]
  },
  {
   "cell_type": "code",
   "execution_count": 38,
   "metadata": {
    "scrolled": true
   },
   "outputs": [
    {
     "name": "stdout",
     "output_type": "stream",
     "text": [
      "No of lines in a file 22\n",
      "No of words in a file 21\n",
      "No of charaters in a file 186\n"
     ]
    }
   ],
   "source": [
    "# No of charaters in a file\n",
    "with open('data.txt','r') as fg:\n",
    "    k = fg.read()\n",
    "    count = 1\n",
    "    words = 1\n",
    "    for i in k:\n",
    "        if i == '\\n':\n",
    "            count += 1\n",
    "            words = k.split()\n",
    "    print(\"No of lines in a file\",count)\n",
    "    print(\"No of words in a file\",len(words))\n",
    "    print(\"No of charaters in a file\",len(k))\n",
    "fg.close()"
   ]
  },
  {
   "cell_type": "code",
   "execution_count": 39,
   "metadata": {},
   "outputs": [],
   "source": [
    "for i in range(1, 11):\n",
    "    f = open('file' + str(i) + '.txt', 'w')\n",
    "f.close()\n"
   ]
  },
  {
   "cell_type": "code",
   "execution_count": 40,
   "metadata": {},
   "outputs": [
    {
     "ename": "TypeError",
     "evalue": "write() argument must be str, not int",
     "output_type": "error",
     "traceback": [
      "\u001b[1;31m---------------------------------------------------------------------------\u001b[0m",
      "\u001b[1;31mTypeError\u001b[0m                                 Traceback (most recent call last)",
      "\u001b[1;32m<ipython-input-40-15a39df13cff>\u001b[0m in \u001b[0;36m<module>\u001b[1;34m\u001b[0m\n\u001b[0;32m      1\u001b[0m \u001b[0mf\u001b[0m \u001b[1;33m=\u001b[0m \u001b[0mopen\u001b[0m\u001b[1;33m(\u001b[0m\u001b[1;34m'file.txt'\u001b[0m\u001b[1;33m,\u001b[0m\u001b[1;34m'w'\u001b[0m\u001b[1;33m)\u001b[0m\u001b[1;33m\u001b[0m\u001b[1;33m\u001b[0m\u001b[0m\n\u001b[1;32m----> 2\u001b[1;33m \u001b[0mf\u001b[0m\u001b[1;33m.\u001b[0m\u001b[0mwrite\u001b[0m\u001b[1;33m(\u001b[0m\u001b[1;36m5\u001b[0m\u001b[1;33m)\u001b[0m\u001b[1;33m\u001b[0m\u001b[1;33m\u001b[0m\u001b[0m\n\u001b[0m\u001b[0;32m      3\u001b[0m \u001b[0mf\u001b[0m\u001b[1;33m.\u001b[0m\u001b[0mclose\u001b[0m\u001b[1;33m(\u001b[0m\u001b[1;33m)\u001b[0m\u001b[1;33m\u001b[0m\u001b[1;33m\u001b[0m\u001b[0m\n",
      "\u001b[1;31mTypeError\u001b[0m: write() argument must be str, not int"
     ]
    }
   ],
   "source": [
    "f = open('file.txt','w')\n",
    "f.write(5)\n",
    "f.close()"
   ]
  },
  {
   "cell_type": "code",
   "execution_count": 46,
   "metadata": {},
   "outputs": [],
   "source": [
    "f = open('file.txt','w')\n",
    "for i in range(1,101):\n",
    "    f.write('16H71A0'+str(i)+'\\n')\n",
    "f.close()"
   ]
  },
  {
   "cell_type": "code",
   "execution_count": 48,
   "metadata": {},
   "outputs": [],
   "source": [
    "f = open('file.txt','a')\n",
    "for i in range(1,101):\n",
    "    f.write('17H71A0'+str(i)+' * ')\n",
    "f.close()"
   ]
  },
  {
   "cell_type": "code",
   "execution_count": 50,
   "metadata": {},
   "outputs": [
    {
     "name": "stdout",
     "output_type": "stream",
     "text": [
      "<class 'str'>\n"
     ]
    }
   ],
   "source": [
    "f = open('file.txt','r')\n",
    "data = f.read()\n",
    "print(type(data))\n",
    "f.close()"
   ]
  },
  {
   "cell_type": "code",
   "execution_count": 51,
   "metadata": {
    "collapsed": true
   },
   "outputs": [
    {
     "name": "stdout",
     "output_type": "stream",
     "text": [
      "16h71a01\n",
      "16h71a02\n",
      "16h71a03\n",
      "16h71a04\n",
      "16h71a05\n",
      "16h71a06\n",
      "16h71a07\n",
      "16h71a08\n",
      "16h71a09\n",
      "16h71a010\n",
      "16h71a011\n",
      "16h71a012\n",
      "16h71a013\n",
      "16h71a014\n",
      "16h71a015\n",
      "16h71a016\n",
      "16h71a017\n",
      "16h71a018\n",
      "16h71a019\n",
      "16h71a020\n",
      "16h71a021\n",
      "16h71a022\n",
      "16h71a023\n",
      "16h71a024\n",
      "16h71a025   \n",
      "16h71a026\n",
      "16h71a027\n",
      "16h71a028\n",
      "16h71a029\n",
      "16h71a030\n",
      "16h71a031\n",
      "16h71a032\n",
      "16h71a033\n",
      "16h71a034\n",
      "16h71a035\n",
      "16h71a036\n",
      "16h71a037\n",
      "16h71a038\n",
      "16h71a039\n",
      "16h71a040\n",
      "16h71a041\n",
      "16h71a042\n",
      "16h71a043\n",
      "16h71a044\n",
      "16h71a045\n",
      "16h71a046\n",
      "16h71a047\n",
      "16h71a048\n",
      "16h71a049\n",
      "16h71a050\n",
      "16h71a051\n",
      "16h71a052\n",
      "16h71a053\n",
      "16h71a054\n",
      "16h71a055\n",
      "16h71a056\n",
      "16h71a057\n",
      "16h71a058\n",
      "16h71a059\n",
      "16h71a060\n",
      "16h71a061\n",
      "16h71a062\n",
      "16h71a063\n",
      "16h71a064\n",
      "16h71a065\n",
      "16h71a066\n",
      "16h71a067\n",
      "16h71a068\n",
      "16h71a069\n",
      "16h71a070\n",
      "16h71a071\n",
      "16h71a072\n",
      "16h71a073\n",
      "16h71a074\n",
      "16h71a075\n",
      "16h71a076\n",
      "16h71a077\n",
      "16h71a078\n",
      "16h71a079\n",
      "16h71a080\n",
      "16h71a081\n",
      "16h71a082\n",
      "16h71a083\n",
      "16h71a084\n",
      "16h71a085\n",
      "16h71a086\n",
      "16h71a087\n",
      "16h71a088\n",
      "16h71a089\n",
      "16h71a090\n",
      "16h71a091\n",
      "16h71a092\n",
      "16h71a093\n",
      "16h71a094\n",
      "16h71a095\n",
      "16h71a096\n",
      "16h71a097\n",
      "16h71a098\n",
      "16h71a099\n",
      "16h71a0100\n",
      "17h71a01->17h71a02->17h71a03->17h71a04->17h71a05->17h71a06->17h71a07->17h71a08->17h71a09->17h71a010->17h71a011->17h71a012->17h71a013->17h71a014->17h71a015->17h71a016->17h71a017->17h71a018->17h71a019->17h71a020->17h71a021->17h71a022->17h71a023->17h71a024->17h71a025->17h71a026->17h71a027->17h71a028->17h71a029->17h71a030->17h71a031->17h71a032->17h71a033->17h71a034->17h71a035->17h71a036->17h71a037->17h71a038->17h71a039->17h71a040->17h71a041->17h71a042->17h71a043->17h71a044->17h71a045->17h71a046->17h71a047->17h71a048->17h71a049->17h71a050->17h71a051->17h71a052->17h71a053->17h71a054->17h71a055->17h71a056->17h71a057->17h71a058->17h71a059->17h71a060->17h71a061->17h71a062->17h71a063->17h71a064->17h71a065->17h71a066->17h71a067->17h71a068->17h71a069->17h71a070->17h71a071->17h71a072->17h71a073->17h71a074->17h71a075->17h71a076->17h71a077->17h71a078->17h71a079->17h71a080->17h71a081->17h71a082->17h71a083->17h71a084->17h71a085->17h71a086->17h71a087->17h71a088->17h71a089->17h71a090->17h71a091->17h71a092->17h71a093->17h71a094->17h71a095->17h71a096->17h71a097->17h71a098->17h71a099->17h71a0100->17h71a01 * 17h71a02 * 17h71a03 * 17h71a04 * 17h71a05 * 17h71a06 * 17h71a07 * 17h71a08 * 17h71a09 * 17h71a010 * 17h71a011 * 17h71a012 * 17h71a013 * 17h71a014 * 17h71a015 * 17h71a016 * 17h71a017 * 17h71a018 * 17h71a019 * 17h71a020 * 17h71a021 * 17h71a022 * 17h71a023 * 17h71a024 * 17h71a025 * 17h71a026 * 17h71a027 * 17h71a028 * 17h71a029 * 17h71a030 * 17h71a031 * 17h71a032 * 17h71a033 * 17h71a034 * 17h71a035 * 17h71a036 * 17h71a037 * 17h71a038 * 17h71a039 * 17h71a040 * 17h71a041 * 17h71a042 * 17h71a043 * 17h71a044 * 17h71a045 * 17h71a046 * 17h71a047 * 17h71a048 * 17h71a049 * 17h71a050 * 17h71a051 * 17h71a052 * 17h71a053 * 17h71a054 * 17h71a055 * 17h71a056 * 17h71a057 * 17h71a058 * 17h71a059 * 17h71a060 * 17h71a061 * 17h71a062 * 17h71a063 * 17h71a064 * 17h71a065 * 17h71a066 * 17h71a067 * 17h71a068 * 17h71a069 * 17h71a070 * 17h71a071 * 17h71a072 * 17h71a073 * 17h71a074 * 17h71a075 * 17h71a076 * 17h71a077 * 17h71a078 * 17h71a079 * 17h71a080 * 17h71a081 * 17h71a082 * 17h71a083 * 17h71a084 * 17h71a085 * 17h71a086 * 17h71a087 * 17h71a088 * 17h71a089 * 17h71a090 * 17h71a091 * 17h71a092 * 17h71a093 * 17h71a094 * 17h71a095 * 17h71a096 * 17h71a097 * 17h71a098 * 17h71a099 * 17h71a0100 * \n"
     ]
    }
   ],
   "source": [
    "f = open('file.txt','r')\n",
    "data = f.read()\n",
    "print(data.lower())\n",
    "f.close()"
   ]
  },
  {
   "cell_type": "code",
   "execution_count": 54,
   "metadata": {},
   "outputs": [
    {
     "name": "stdout",
     "output_type": "stream",
     "text": [
      "16H71A01\n",
      "\n",
      "16H71A02\n",
      "\n"
     ]
    }
   ],
   "source": [
    "f = open('file.txt','r')\n",
    "data = f.readline()\n",
    "print(data)\n",
    "print(f.readline())\n",
    "f.close()"
   ]
  },
  {
   "cell_type": "code",
   "execution_count": 55,
   "metadata": {},
   "outputs": [
    {
     "name": "stdout",
     "output_type": "stream",
     "text": [
      "16H71A01\n",
      "16H71A02\n",
      "16H71A03\n",
      "16H71A04\n",
      "16H71A05\n",
      "16H71A06\n",
      "16H71A07\n",
      "16H71A08\n",
      "16H71A09\n",
      "16H71A010\n",
      "16H71A011\n"
     ]
    }
   ],
   "source": [
    "f = open('file.txt','r')\n",
    "data = f.read(100)\n",
    "print(data)\n",
    "f.close()"
   ]
  },
  {
   "cell_type": "code",
   "execution_count": 59,
   "metadata": {
    "collapsed": true
   },
   "outputs": [
    {
     "name": "stdout",
     "output_type": "stream",
     "text": [
      "['16H71A01\\n', '16H71A02\\n', '16H71A03\\n', '16H71A04\\n', '16H71A05\\n', '16H71A06\\n', '16H71A07\\n', '16H71A08\\n', '16H71A09\\n', '16H71A010\\n']\n"
     ]
    }
   ],
   "source": [
    "f = open('file.txt','r')\n",
    "data = f.readlines()\n",
    "print(data[:10])\n",
    "f.close()"
   ]
  },
  {
   "cell_type": "code",
   "execution_count": 62,
   "metadata": {
    "collapsed": true
   },
   "outputs": [
    {
     "name": "stdout",
     "output_type": "stream",
     "text": [
      "16H71A01\n",
      "\n",
      "16H71A02\n",
      "\n",
      "16H71A03\n",
      "\n",
      "16H71A04\n",
      "\n",
      "16H71A05\n",
      "\n",
      "16H71A06\n",
      "\n",
      "16H71A07\n",
      "\n",
      "16H71A08\n",
      "\n",
      "16H71A09\n",
      "\n",
      "16H71A010\n",
      "\n",
      "16H71A011\n",
      "\n",
      "16H71A012\n",
      "\n",
      "16H71A013\n",
      "\n",
      "16H71A014\n",
      "\n",
      "16H71A015\n",
      "\n",
      "16H71A016\n",
      "\n",
      "16H71A017\n",
      "\n",
      "16H71A018\n",
      "\n",
      "16H71A019\n",
      "\n",
      "16H71A020\n",
      "\n",
      "16H71A021\n",
      "\n",
      "16H71A022\n",
      "\n",
      "16H71A023\n",
      "\n",
      "16H71A024\n",
      "\n",
      "16H71A025   \n",
      "\n",
      "16H71A026\n",
      "\n",
      "16H71A027\n",
      "\n",
      "16H71A028\n",
      "\n",
      "16H71A029\n",
      "\n",
      "16H71A030\n",
      "\n",
      "16H71A031\n",
      "\n",
      "16H71A032\n",
      "\n",
      "16H71A033\n",
      "\n",
      "16H71A034\n",
      "\n",
      "16H71A035\n",
      "\n",
      "16H71A036\n",
      "\n",
      "16H71A037\n",
      "\n",
      "16H71A038\n",
      "\n",
      "16H71A039\n",
      "\n",
      "16H71A040\n",
      "\n",
      "16H71A041\n",
      "\n",
      "16H71A042\n",
      "\n",
      "16H71A043\n",
      "\n",
      "16H71A044\n",
      "\n",
      "16H71A045\n",
      "\n",
      "16H71A046\n",
      "\n",
      "16H71A047\n",
      "\n",
      "16H71A048\n",
      "\n",
      "16H71A049\n",
      "\n",
      "16H71A050\n",
      "\n",
      "16H71A051\n",
      "\n",
      "16H71A052\n",
      "\n",
      "16H71A053\n",
      "\n",
      "16H71A054\n",
      "\n",
      "16H71A055\n",
      "\n",
      "16H71A056\n",
      "\n",
      "16H71A057\n",
      "\n",
      "16H71A058\n",
      "\n",
      "16H71A059\n",
      "\n",
      "16H71A060\n",
      "\n",
      "16H71A061\n",
      "\n",
      "16H71A062\n",
      "\n",
      "16H71A063\n",
      "\n",
      "16H71A064\n",
      "\n",
      "16H71A065\n",
      "\n",
      "16H71A066\n",
      "\n",
      "16H71A067\n",
      "\n",
      "16H71A068\n",
      "\n",
      "16H71A069\n",
      "\n",
      "16H71A070\n",
      "\n",
      "16H71A071\n",
      "\n",
      "16H71A072\n",
      "\n",
      "16H71A073\n",
      "\n",
      "16H71A074\n",
      "\n",
      "16H71A075\n",
      "\n",
      "16H71A076\n",
      "\n",
      "16H71A077\n",
      "\n",
      "16H71A078\n",
      "\n",
      "16H71A079\n",
      "\n",
      "16H71A080\n",
      "\n",
      "16H71A081\n",
      "\n",
      "16H71A082\n",
      "\n",
      "16H71A083\n",
      "\n",
      "16H71A084\n",
      "\n",
      "16H71A085\n",
      "\n",
      "16H71A086\n",
      "\n",
      "16H71A087\n",
      "\n",
      "16H71A088\n",
      "\n",
      "16H71A089\n",
      "\n",
      "16H71A090\n",
      "\n",
      "16H71A091\n",
      "\n",
      "16H71A092\n",
      "\n",
      "16H71A093\n",
      "\n",
      "16H71A094\n",
      "\n",
      "16H71A095\n",
      "\n",
      "16H71A096\n",
      "\n",
      "16H71A097\n",
      "\n",
      "16H71A098\n",
      "\n",
      "16H71A099\n",
      "\n",
      "16H71A0100\n",
      "\n",
      "17H71A01->17H71A02->17H71A03->17H71A04->17H71A05->17H71A06->17H71A07->17H71A08->17H71A09->17H71A010->17H71A011->17H71A012->17H71A013->17H71A014->17H71A015->17H71A016->17H71A017->17H71A018->17H71A019->17H71A020->17H71A021->17H71A022->17H71A023->17H71A024->17H71A025->17H71A026->17H71A027->17H71A028->17H71A029->17H71A030->17H71A031->17H71A032->17H71A033->17H71A034->17H71A035->17H71A036->17H71A037->17H71A038->17H71A039->17H71A040->17H71A041->17H71A042->17H71A043->17H71A044->17H71A045->17H71A046->17H71A047->17H71A048->17H71A049->17H71A050->17H71A051->17H71A052->17H71A053->17H71A054->17H71A055->17H71A056->17H71A057->17H71A058->17H71A059->17H71A060->17H71A061->17H71A062->17H71A063->17H71A064->17H71A065->17H71A066->17H71A067->17H71A068->17H71A069->17H71A070->17H71A071->17H71A072->17H71A073->17H71A074->17H71A075->17H71A076->17H71A077->17H71A078->17H71A079->17H71A080->17H71A081->17H71A082->17H71A083->17H71A084->17H71A085->17H71A086->17H71A087->17H71A088->17H71A089->17H71A090->17H71A091->17H71A092->17H71A093->17H71A094->17H71A095->17H71A096->17H71A097->17H71A098->17H71A099->17H71A0100->17H71A01 * 17H71A02 * 17H71A03 * 17H71A04 * 17H71A05 * 17H71A06 * 17H71A07 * 17H71A08 * 17H71A09 * 17H71A010 * 17H71A011 * 17H71A012 * 17H71A013 * 17H71A014 * 17H71A015 * 17H71A016 * 17H71A017 * 17H71A018 * 17H71A019 * 17H71A020 * 17H71A021 * 17H71A022 * 17H71A023 * 17H71A024 * 17H71A025 * 17H71A026 * 17H71A027 * 17H71A028 * 17H71A029 * 17H71A030 * 17H71A031 * 17H71A032 * 17H71A033 * 17H71A034 * 17H71A035 * 17H71A036 * 17H71A037 * 17H71A038 * 17H71A039 * 17H71A040 * 17H71A041 * 17H71A042 * 17H71A043 * 17H71A044 * 17H71A045 * 17H71A046 * 17H71A047 * 17H71A048 * 17H71A049 * 17H71A050 * 17H71A051 * 17H71A052 * 17H71A053 * 17H71A054 * 17H71A055 * 17H71A056 * 17H71A057 * 17H71A058 * 17H71A059 * 17H71A060 * 17H71A061 * 17H71A062 * 17H71A063 * 17H71A064 * 17H71A065 * 17H71A066 * 17H71A067 * 17H71A068 * 17H71A069 * 17H71A070 * 17H71A071 * 17H71A072 * 17H71A073 * 17H71A074 * 17H71A075 * 17H71A076 * 17H71A077 * 17H71A078 * 17H71A079 * 17H71A080 * 17H71A081 * 17H71A082 * 17H71A083 * 17H71A084 * 17H71A085 * 17H71A086 * 17H71A087 * 17H71A088 * 17H71A089 * 17H71A090 * 17H71A091 * 17H71A092 * 17H71A093 * 17H71A094 * 17H71A095 * 17H71A096 * 17H71A097 * 17H71A098 * 17H71A099 * 17H71A0100 * \n",
      "<class 'list'>\n"
     ]
    }
   ],
   "source": [
    "f = open('file.txt','r')\n",
    "data = f.readlines()\n",
    "for line in  data:\n",
    "    print(line)\n",
    "print(type(data))\n",
    "f.close()"
   ]
  },
  {
   "cell_type": "markdown",
   "metadata": {},
   "source": [
    "## Copy data from 1 file to many"
   ]
  },
  {
   "cell_type": "code",
   "execution_count": 64,
   "metadata": {},
   "outputs": [],
   "source": [
    "with open('file.txt','r+') as f:\n",
    "    data = f.read()\n",
    "for i in range(1,11):\n",
    "    with open('file' + str(i) + '.txt','r+') as f:\n",
    "        f.write(data)"
   ]
  },
  {
   "cell_type": "code",
   "execution_count": null,
   "metadata": {},
   "outputs": [],
   "source": []
  }
 ],
 "metadata": {
  "kernelspec": {
   "display_name": "Python 3",
   "language": "python",
   "name": "python3"
  },
  "language_info": {
   "codemirror_mode": {
    "name": "ipython",
    "version": 3
   },
   "file_extension": ".py",
   "mimetype": "text/x-python",
   "name": "python",
   "nbconvert_exporter": "python",
   "pygments_lexer": "ipython3",
   "version": "3.7.3"
  }
 },
 "nbformat": 4,
 "nbformat_minor": 2
}
