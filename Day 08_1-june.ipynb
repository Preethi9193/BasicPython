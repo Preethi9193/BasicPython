{
 "cells": [
  {
   "cell_type": "markdown",
   "metadata": {},
   "source": [
    "### Strings\n",
    " \n",
    "- Slicing in python\n",
    "- String methods\n",
    "\n",
    "### List\n",
    "- Accessing the elements from the list\n",
    "- List methods\n",
    "\n",
    "### Tuple\n",
    "- Accessing the elements from the tuple\n",
    "- Tuple methods\n"
   ]
  },
  {
   "cell_type": "code",
   "execution_count": 1,
   "metadata": {},
   "outputs": [],
   "source": [
    "s1 = \"\"\"Everyone should \n",
    "compulsory follow the below \n",
    "instruction in order \n",
    "to get the attendance --> Certificate\"\"\""
   ]
  },
  {
   "cell_type": "code",
   "execution_count": 3,
   "metadata": {},
   "outputs": [
    {
     "name": "stdout",
     "output_type": "stream",
     "text": [
      "E o e\n"
     ]
    }
   ],
   "source": [
    "print(s1[0],s1[55],s1[-10])"
   ]
  },
  {
   "cell_type": "code",
   "execution_count": 4,
   "metadata": {},
   "outputs": [
    {
     "name": "stdout",
     "output_type": "stream",
     "text": [
      "105\n"
     ]
    }
   ],
   "source": [
    "print(len(s1))"
   ]
  },
  {
   "cell_type": "markdown",
   "metadata": {},
   "source": [
    "### String Slicing\n",
    "\n",
    "#### Syntax\n",
    "\n",
    "string_var[ StartingIndex: EndingIndex]\n",
    "\n",
    "- Default starting index -> 0\n",
    "- Default Ending index -> Length os string -1"
   ]
  },
  {
   "cell_type": "code",
   "execution_count": 9,
   "metadata": {},
   "outputs": [
    {
     "name": "stdout",
     "output_type": "stream",
     "text": [
      "Everyo\n"
     ]
    }
   ],
   "source": [
    "print(s1[0: 6])"
   ]
  },
  {
   "cell_type": "code",
   "execution_count": 10,
   "metadata": {},
   "outputs": [
    {
     "name": "stdout",
     "output_type": "stream",
     "text": [
      "Everyone should \n",
      "compulsory follow the below \n",
      "inst\n"
     ]
    }
   ],
   "source": [
    "print(s1[0: 50])"
   ]
  },
  {
   "cell_type": "code",
   "execution_count": 15,
   "metadata": {},
   "outputs": [
    {
     "name": "stdout",
     "output_type": "stream",
     "text": [
      "on in order \n",
      "to get the attend\n"
     ]
    }
   ],
   "source": [
    "print(s1[-50: ])"
   ]
  },
  {
   "cell_type": "code",
   "execution_count": 17,
   "metadata": {},
   "outputs": [
    {
     "name": "stdout",
     "output_type": "stream",
     "text": [
      " \n"
     ]
    }
   ],
   "source": [
    "print(s1[8])"
   ]
  },
  {
   "cell_type": "code",
   "execution_count": 19,
   "metadata": {},
   "outputs": [
    {
     "name": "stdout",
     "output_type": "stream",
     "text": [
      "Everyone s Everyone s\n"
     ]
    }
   ],
   "source": [
    "print(s1[: 10],s1[0: 10])"
   ]
  },
  {
   "cell_type": "code",
   "execution_count": 20,
   "metadata": {},
   "outputs": [
    {
     "name": "stdout",
     "output_type": "stream",
     "text": [
      "Everyone should \n",
      "compulsory follow the below \n",
      "instruction in order \n",
      "to get the attendance --> Certificate\n"
     ]
    }
   ],
   "source": [
    "print(s1[:])"
   ]
  },
  {
   "cell_type": "markdown",
   "metadata": {},
   "source": [
    "string_var[StartingIndex : EndingIndex : StepSize]"
   ]
  },
  {
   "cell_type": "code",
   "execution_count": 21,
   "metadata": {},
   "outputs": [
    {
     "name": "stdout",
     "output_type": "stream",
     "text": [
      "Eeyn \n"
     ]
    }
   ],
   "source": [
    "print(s1[0: 10: 2])"
   ]
  },
  {
   "cell_type": "code",
   "execution_count": 24,
   "metadata": {},
   "outputs": [
    {
     "name": "stdout",
     "output_type": "stream",
     "text": [
      "hud\n",
      "oployflo h eo isrcini re t e h tedne->Criiae\n"
     ]
    }
   ],
   "source": [
    "print(s1[-10: : -2])"
   ]
  },
  {
   "cell_type": "code",
   "execution_count": 25,
   "metadata": {},
   "outputs": [
    {
     "name": "stdout",
     "output_type": "stream",
     "text": [
      "etfct\n"
     ]
    }
   ],
   "source": [
    "print(s1[-10: : 2])"
   ]
  },
  {
   "cell_type": "code",
   "execution_count": 26,
   "metadata": {},
   "outputs": [
    {
     "name": "stdout",
     "output_type": "stream",
     "text": [
      "etacifitreC >-- ecnadnetta eht teg ot\n",
      " redro ni noitcurtsni\n",
      " woleb eht wollof yroslupmoc\n",
      " dluohs enoyrevE\n"
     ]
    }
   ],
   "source": [
    "print(s1[: : -1])"
   ]
  },
  {
   "cell_type": "markdown",
   "metadata": {},
   "source": [
    "### Strings Methods\n",
    "\n"
   ]
  },
  {
   "cell_type": "code",
   "execution_count": 31,
   "metadata": {},
   "outputs": [
    {
     "name": "stdout",
     "output_type": "stream",
     "text": [
      "PREETHI LEARNER\n"
     ]
    }
   ],
   "source": [
    "s = 'Preethi Learner'\n",
    "\n",
    "print(s.upper())"
   ]
  },
  {
   "cell_type": "code",
   "execution_count": 30,
   "metadata": {},
   "outputs": [
    {
     "name": "stdout",
     "output_type": "stream",
     "text": [
      "preethi learner\n"
     ]
    }
   ],
   "source": [
    "print(s.lower())"
   ]
  },
  {
   "cell_type": "code",
   "execution_count": 33,
   "metadata": {},
   "outputs": [
    {
     "name": "stdout",
     "output_type": "stream",
     "text": [
      "pREETHI lEARNER\n"
     ]
    }
   ],
   "source": [
    "print(s.swapcase())"
   ]
  },
  {
   "cell_type": "code",
   "execution_count": 34,
   "metadata": {},
   "outputs": [
    {
     "name": "stdout",
     "output_type": "stream",
     "text": [
      "True False\n"
     ]
    }
   ],
   "source": [
    "s1 = 'APSSDC'\n",
    "s2 = 'pyhton'\n",
    "s3 = '123456'\n",
    "\n",
    "\n",
    "print(s1.isupper(),s2.isupper())"
   ]
  },
  {
   "cell_type": "code",
   "execution_count": 35,
   "metadata": {},
   "outputs": [
    {
     "name": "stdout",
     "output_type": "stream",
     "text": [
      "False True\n"
     ]
    }
   ],
   "source": [
    "print(s1.islower(),s2.islower())"
   ]
  },
  {
   "cell_type": "code",
   "execution_count": 37,
   "metadata": {},
   "outputs": [
    {
     "name": "stdout",
     "output_type": "stream",
     "text": [
      "True False\n"
     ]
    }
   ],
   "source": [
    "print(s3.isdigit(),s.isdigit())"
   ]
  },
  {
   "cell_type": "markdown",
   "metadata": {},
   "source": [
    "### Validating indian mobile number\n",
    "\n",
    "- +91, 0 -> \n",
    "- 10 digits -> len()\n",
    "- starting number be like 9,8,7,6"
   ]
  },
  {
   "cell_type": "code",
   "execution_count": 46,
   "metadata": {},
   "outputs": [
    {
     "name": "stdout",
     "output_type": "stream",
     "text": [
      "+91923456789o is not valid indian mobile number\n"
     ]
    }
   ],
   "source": [
    "n1 = '+919234567890'\n",
    "n2 = '9874561230'\n",
    "n3 = '+915412378960'\n",
    "n4 = '+5628329883'\n",
    "n5 =  '+91923456789o'\n",
    "if n1[0] == '+':\n",
    "    if n1[1:3] == '91' and len(n1[3: ]) == 10 and n1[3] in '9876' and n1[1:].isdigit():\n",
    "        print(n1, 'is valid indian mobile number')\n",
    "    else:\n",
    "        print(n1,'is not valid indian mobile number')\n",
    "elif len(n1) == 10 and n1[0] in '9876':\n",
    "    print(n1,'is valid indian mobile number')\n",
    "else:\n",
    "    print(n1,'is not valid indian mobile number')"
   ]
  },
  {
   "cell_type": "code",
   "execution_count": 47,
   "metadata": {},
   "outputs": [
    {
     "name": "stdout",
     "output_type": "stream",
     "text": [
      "True\n"
     ]
    }
   ],
   "source": [
    "rollno = '16H71A0593'\n",
    "\n",
    "print(rollno.startswith('16'))"
   ]
  },
  {
   "cell_type": "code",
   "execution_count": 48,
   "metadata": {},
   "outputs": [],
   "source": [
    "email = 'rayidipreethi5679@gmail.com'\n",
    "email1 = 'abc@apssdc.com'"
   ]
  },
  {
   "cell_type": "code",
   "execution_count": 51,
   "metadata": {},
   "outputs": [
    {
     "name": "stdout",
     "output_type": "stream",
     "text": [
      "True\n"
     ]
    }
   ],
   "source": [
    "print(email.endswith('gmail.com'))"
   ]
  },
  {
   "cell_type": "code",
   "execution_count": 52,
   "metadata": {},
   "outputs": [
    {
     "name": "stdout",
     "output_type": "stream",
     "text": [
      "17\n"
     ]
    }
   ],
   "source": [
    "print(email.index('@'))"
   ]
  },
  {
   "cell_type": "code",
   "execution_count": 56,
   "metadata": {},
   "outputs": [
    {
     "name": "stdout",
     "output_type": "stream",
     "text": [
      "abc\n"
     ]
    }
   ],
   "source": [
    "print(email1[0: email1.index('@')])"
   ]
  },
  {
   "cell_type": "code",
   "execution_count": 57,
   "metadata": {},
   "outputs": [
    {
     "name": "stdout",
     "output_type": "stream",
     "text": [
      "gmail\n"
     ]
    }
   ],
   "source": [
    "email = 'rayidipreethi5679@gmail.com'\n",
    "email1 = 'abc@apssdc.in'\n",
    "email2 = 'preeti@gmail.com'\n",
    "\n",
    "print(email2[email2.index('@') + 1 : email2.index('.')])"
   ]
  },
  {
   "cell_type": "code",
   "execution_count": 58,
   "metadata": {},
   "outputs": [
    {
     "name": "stdout",
     "output_type": "stream",
     "text": [
      "Help on method_descriptor:\n",
      "\n",
      "index(...)\n",
      "    S.index(sub[, start[, end]]) -> int\n",
      "    \n",
      "    Return the lowest index in S where substring sub is found, \n",
      "    such that sub is contained within S[start:end].  Optional\n",
      "    arguments start and end are interpreted as in slice notation.\n",
      "    \n",
      "    Raises ValueError when the substring is not found.\n",
      "\n"
     ]
    }
   ],
   "source": [
    "help(str.index)"
   ]
  },
  {
   "cell_type": "code",
   "execution_count": 59,
   "metadata": {},
   "outputs": [
    {
     "name": "stdout",
     "output_type": "stream",
     "text": [
      "3\n"
     ]
    }
   ],
   "source": [
    "email = 'abc@gmail@com'\n",
    "\n",
    "print(email.index('@'))"
   ]
  },
  {
   "cell_type": "code",
   "execution_count": 60,
   "metadata": {},
   "outputs": [
    {
     "name": "stdout",
     "output_type": "stream",
     "text": [
      "9\n"
     ]
    }
   ],
   "source": [
    "email = 'abc@gmail@com'\n",
    "\n",
    "print(email.index('@',5))"
   ]
  },
  {
   "cell_type": "code",
   "execution_count": 62,
   "metadata": {},
   "outputs": [
    {
     "ename": "ValueError",
     "evalue": "substring not found",
     "output_type": "error",
     "traceback": [
      "\u001b[1;31m---------------------------------------------------------------------------\u001b[0m",
      "\u001b[1;31mValueError\u001b[0m                                Traceback (most recent call last)",
      "\u001b[1;32m<ipython-input-62-427c3446ebbb>\u001b[0m in \u001b[0;36m<module>\u001b[1;34m\u001b[0m\n\u001b[0;32m      1\u001b[0m \u001b[0memail\u001b[0m \u001b[1;33m=\u001b[0m \u001b[1;34m'abc@gmail@com'\u001b[0m\u001b[1;33m\u001b[0m\u001b[1;33m\u001b[0m\u001b[0m\n\u001b[0;32m      2\u001b[0m \u001b[1;33m\u001b[0m\u001b[0m\n\u001b[1;32m----> 3\u001b[1;33m \u001b[0mprint\u001b[0m\u001b[1;33m(\u001b[0m\u001b[0memail\u001b[0m\u001b[1;33m.\u001b[0m\u001b[0mindex\u001b[0m\u001b[1;33m(\u001b[0m\u001b[1;34m'@'\u001b[0m\u001b[1;33m,\u001b[0m\u001b[1;36m10\u001b[0m\u001b[1;33m)\u001b[0m\u001b[1;33m)\u001b[0m\u001b[1;33m\u001b[0m\u001b[1;33m\u001b[0m\u001b[0m\n\u001b[0m",
      "\u001b[1;31mValueError\u001b[0m: substring not found"
     ]
    }
   ],
   "source": [
    "email = 'abc@gmail@com'\n",
    "\n",
    "print(email.index('@',10))"
   ]
  },
  {
   "cell_type": "code",
   "execution_count": 63,
   "metadata": {},
   "outputs": [
    {
     "name": "stdout",
     "output_type": "stream",
     "text": [
      "2\n"
     ]
    }
   ],
   "source": [
    "print(email.count('a'))"
   ]
  },
  {
   "cell_type": "code",
   "execution_count": 64,
   "metadata": {},
   "outputs": [
    {
     "name": "stdout",
     "output_type": "stream",
     "text": [
      "1\n"
     ]
    }
   ],
   "source": [
    "print(email.count('ab'))"
   ]
  },
  {
   "cell_type": "code",
   "execution_count": 66,
   "metadata": {},
   "outputs": [
    {
     "name": "stdout",
     "output_type": "stream",
     "text": [
      "preeti python      preeti python preeti python\n"
     ]
    }
   ],
   "source": [
    "s = '  preeti python   '\n",
    "\n",
    "print(s.lstrip(), s.rstrip(), s.strip())"
   ]
  },
  {
   "cell_type": "code",
   "execution_count": 68,
   "metadata": {},
   "outputs": [
    {
     "name": "stdout",
     "output_type": "stream",
     "text": [
      "preeti python)))))))) ((((preeti python preeti python\n"
     ]
    }
   ],
   "source": [
    "s = '((((preeti python))))))))'\n",
    "\n",
    "print(s.lstrip('('), s.rstrip(')'), s.strip('()'))"
   ]
  },
  {
   "cell_type": "code",
   "execution_count": 69,
   "metadata": {},
   "outputs": [
    {
     "name": "stdout",
     "output_type": "stream",
     "text": [
      "Cleaned data\n"
     ]
    }
   ],
   "source": [
    "s = '((((([[[[{{{{{{{Cleaned data}}}}}}}]]]])))))'\n",
    "\n",
    "print(s.strip('([{}])'))"
   ]
  },
  {
   "cell_type": "code",
   "execution_count": 86,
   "metadata": {},
   "outputs": [],
   "source": [
    "s = \"\"\"This tutorial outlines \n",
    "the key guidelines laid out \n",
    "in PEP 8. It’s aimed at beginner \n",
    "to intermediate programmers, and as such I have \n",
    "not covered some of the most advanced topics.\"\"\""
   ]
  },
  {
   "cell_type": "code",
   "execution_count": 71,
   "metadata": {},
   "outputs": [
    {
     "name": "stdout",
     "output_type": "stream",
     "text": [
      "This-tutorial-outlines-\n",
      "the-key-guidelines-laid-out-\n",
      "in-PEP-8.-It’s-aimed-at-beginner-\n",
      "to-intermediate-programmers,-and-as-such-I-have-\n",
      "not-covered-some-of-the-most-advanced-topics.\n"
     ]
    }
   ],
   "source": [
    "print(s.replace(' ','-'))"
   ]
  },
  {
   "cell_type": "code",
   "execution_count": 73,
   "metadata": {},
   "outputs": [
    {
     "ename": "SyntaxError",
     "evalue": "invalid syntax (<ipython-input-73-ce4978e5413b>, line 1)",
     "output_type": "error",
     "traceback": [
      "\u001b[1;36m  File \u001b[1;32m\"<ipython-input-73-ce4978e5413b>\"\u001b[1;36m, line \u001b[1;32m1\u001b[0m\n\u001b[1;33m    '.'.join(in)\u001b[0m\n\u001b[1;37m              ^\u001b[0m\n\u001b[1;31mSyntaxError\u001b[0m\u001b[1;31m:\u001b[0m invalid syntax\n"
     ]
    }
   ],
   "source": [
    "'.'.join(in)"
   ]
  },
  {
   "cell_type": "code",
   "execution_count": 75,
   "metadata": {},
   "outputs": [
    {
     "name": "stdout",
     "output_type": "stream",
     "text": [
      "This Tutorial Outlines \n",
      "The Key Guidelines Laid Out \n",
      "In Pep 8. It’S Aimed At Beginner \n",
      "To Intermediate Programmers, And As Such I Have \n",
      "Not Covered Some Of The Most Advanced Topics.\n"
     ]
    }
   ],
   "source": [
    "print(s.title())"
   ]
  },
  {
   "cell_type": "code",
   "execution_count": 76,
   "metadata": {},
   "outputs": [
    {
     "name": "stdout",
     "output_type": "stream",
     "text": [
      "This tutorial outlines \n",
      "the key guidelines laid out \n",
      "in pep 8. it’s aimed at beginner \n",
      "to intermediate programmers, and as such i have \n",
      "not covered some of the most advanced topics.\n"
     ]
    }
   ],
   "source": [
    "print(s.capitalize())"
   ]
  },
  {
   "cell_type": "code",
   "execution_count": 77,
   "metadata": {},
   "outputs": [
    {
     "name": "stdout",
     "output_type": "stream",
     "text": [
      "False\n"
     ]
    }
   ],
   "source": [
    "print(s.istitle())"
   ]
  },
  {
   "cell_type": "code",
   "execution_count": 78,
   "metadata": {},
   "outputs": [
    {
     "name": "stdout",
     "output_type": "stream",
     "text": [
      "this tutorial outlines \n",
      "the key guidelines laid out \n",
      "in pep 8. it’s aimed at beginner \n",
      "to intermediate programmers, and as such i have \n",
      "not covered some of the most advanced topics.\n"
     ]
    }
   ],
   "source": [
    "print(s.lower())"
   ]
  },
  {
   "cell_type": "code",
   "execution_count": 79,
   "metadata": {},
   "outputs": [
    {
     "name": "stdout",
     "output_type": "stream",
     "text": [
      "this tutorial outlines \n",
      "the key guidelines laid out \n",
      "in pep 8. it’s aimed at beginner \n",
      "to intermediate programmers, and as such i have \n",
      "not covered some of the most advanced topics.\n"
     ]
    }
   ],
   "source": [
    "print(s.casefold())"
   ]
  },
  {
   "cell_type": "code",
   "execution_count": 80,
   "metadata": {},
   "outputs": [
    {
     "name": "stdout",
     "output_type": "stream",
     "text": [
      "True\n"
     ]
    }
   ],
   "source": [
    "s = 'Python Programming'\n",
    "\n",
    "print(s.istitle())"
   ]
  },
  {
   "cell_type": "code",
   "execution_count": 82,
   "metadata": {},
   "outputs": [
    {
     "name": "stdout",
     "output_type": "stream",
     "text": [
      "I\"m certify that preethi from Institute, on Program, from Date 01-june \n"
     ]
    }
   ],
   "source": [
    "certificate = 'I\"m certify that {} from Institute, on Program, from Date {} '.format('preethi', '01-june')\n",
    "\n",
    "print(certificate)"
   ]
  },
  {
   "cell_type": "code",
   "execution_count": 84,
   "metadata": {},
   "outputs": [
    {
     "name": "stdout",
     "output_type": "stream",
     "text": [
      "I\"m certify that preethi from Institute, on Program, from 01-june, preethi performed well \n"
     ]
    }
   ],
   "source": [
    "certificate = 'I\"m certify that {0} from Institute, on Program, from {1}, {0} performed well '.format('preethi', '01-june')\n",
    "\n",
    "print(certificate)"
   ]
  },
  {
   "cell_type": "code",
   "execution_count": 85,
   "metadata": {},
   "outputs": [
    {
     "name": "stdout",
     "output_type": "stream",
     "text": [
      "True True\n"
     ]
    }
   ],
   "source": [
    "s = 'asfd'\n",
    "s3 = 'asdfer342524'\n",
    "\n",
    "print(s.isalpha(), s3.isalnum())"
   ]
  },
  {
   "cell_type": "code",
   "execution_count": 87,
   "metadata": {},
   "outputs": [],
   "source": [
    "s = \"\"\"This tutorial outlines \n",
    "the key guidelines laid out \n",
    "in PEP 8. It’s aimed at beginner \n",
    "to intermediate programmers, and as such I have \n",
    "not covered some of the most advanced topics.\"\"\""
   ]
  },
  {
   "cell_type": "code",
   "execution_count": 94,
   "metadata": {},
   "outputs": [
    {
     "name": "stdout",
     "output_type": "stream",
     "text": [
      "T\th\ti\ts\t \tt\tu\tt\to\tr\ti\ta\tl\t \to\tu\tt\tl\ti\tn\te\ts\t \t\n",
      "\tt\th\te\t \tk\te\ty\t \tg\tu\ti\td\te\tl\ti\tn\te\ts\t \tl\ta\ti\td\t \to\tu\tt\t \t\n",
      "\ti\tn\t \tP\tE\tP\t \t8\t.\t \tI\tt\t’\ts\t \ta\ti\tm\te\td\t \ta\tt\t \tb\te\tg\ti\tn\tn\te\tr\t \t\n",
      "\tt\to\t \ti\tn\tt\te\tr\tm\te\td\ti\ta\tt\te\t \tp\tr\to\tg\tr\ta\tm\tm\te\tr\ts\t,\t \ta\tn\td\t \ta\ts\t \ts\tu\tc\th\t \tI\t \th\ta\tv\te\t \t\n",
      "\tn\to\tt\t \tc\to\tv\te\tr\te\td\t \ts\to\tm\te\t \to\tf\t \tt\th\te\t \tm\to\ts\tt\t \ta\td\tv\ta\tn\tc\te\td\t \tt\to\tp\ti\tc\ts\t.\t"
     ]
    }
   ],
   "source": [
    "for char in s:\n",
    "   \n",
    "        print(char,end ='\\t')"
   ]
  },
  {
   "cell_type": "code",
   "execution_count": 104,
   "metadata": {},
   "outputs": [],
   "source": [
    "s = \"\"\"Python is an interpreted high-level general-purpose programming language. \n",
    "Python's design philosophy emphasizes code readability with its notable use of significant indentation. Wikipedia\n",
    "Developer: Python Software Foundation\n",
    "Stable release: 3.9.5 / 3 May 2021; 19 days ago\n",
    "Preview release: 3.10.0b1 / 3 May 2021; 19 days ago\n",
    "Typing discipline: Duck, dynamic, strong typing; gradual (since 3.5, but ignored in CPython)\n",
    "First appeared: February 1991; 30 years ago\n",
    "Paradigm: Multi-paradigm: object-oriented, procedural (imperative), functional, structured, reflective\"\"\"\n"
   ]
  },
  {
   "cell_type": "code",
   "execution_count": 95,
   "metadata": {},
   "outputs": [
    {
     "name": "stdout",
     "output_type": "stream",
     "text": [
      "T\th\ti\ts\tt\tu\tt\to\tr\ti\ta\tl\to\tu\tt\tl\ti\tn\te\ts\tt\th\te\tk\te\ty\tg\tu\ti\td\te\tl\ti\tn\te\ts\tl\ta\ti\td\to\tu\tt\ti\tn\tP\tE\tP\tI\tt\ts\ta\ti\tm\te\td\ta\tt\tb\te\tg\ti\tn\tn\te\tr\tt\to\ti\tn\tt\te\tr\tm\te\td\ti\ta\tt\te\tp\tr\to\tg\tr\ta\tm\tm\te\tr\ts\ta\tn\td\ta\ts\ts\tu\tc\th\tI\th\ta\tv\te\tn\to\tt\tc\to\tv\te\tr\te\td\ts\to\tm\te\to\tf\tt\th\te\tm\to\ts\tt\ta\td\tv\ta\tn\tc\te\td\tt\to\tp\ti\tc\ts\t"
     ]
    }
   ],
   "source": [
    "for char in s:\n",
    "    if char.isalpha():\n",
    "        print(char,end ='\\t')"
   ]
  },
  {
   "cell_type": "code",
   "execution_count": 107,
   "metadata": {},
   "outputs": [
    {
     "name": "stdout",
     "output_type": "stream",
     "text": [
      "3\t9\t5\t3\t2\t0\t2\t1\t1\t9\t3\t1\t0\t0\t1\t3\t2\t0\t2\t1\t1\t9\t3\t5\t1\t9\t9\t1\t3\t0\t"
     ]
    }
   ],
   "source": [
    "for char in s:\n",
    "    if char.isdigit():\n",
    "        print(char,end ='\\t')"
   ]
  },
  {
   "cell_type": "code",
   "execution_count": 98,
   "metadata": {},
   "outputs": [
    {
     "name": "stdout",
     "output_type": "stream",
     "text": [
      "i\tu\to\ti\ta\to\tu\ti\te\te\te\tu\ti\te\ti\te\ta\ti\to\tu\ti\tE\tI\ta\ti\te\ta\te\ti\te\to\ti\te\te\ti\ta\te\to\ta\te\ta\ta\tu\tI\ta\te\to\to\te\te\to\te\to\te\to\ta\ta\te\to\ti\t"
     ]
    }
   ],
   "source": [
    "for char in s:\n",
    "    if char in 'AEIOUaeiou':\n",
    "        print(char,end ='\\t')"
   ]
  },
  {
   "cell_type": "code",
   "execution_count": 99,
   "metadata": {},
   "outputs": [
    {
     "name": "stdout",
     "output_type": "stream",
     "text": [
      "Alpha 142 Digit 1 Special chara 38\n"
     ]
    }
   ],
   "source": [
    "ac = 0\n",
    "nc = 0\n",
    "sc = 0\n",
    "\n",
    "for char in s:\n",
    "    if char.isalpha():\n",
    "        ac += 1\n",
    "    elif char.isdigit():\n",
    "        nc +=1\n",
    "    else:\n",
    "        sc +=1\n",
    "print('Alpha',ac,'Digit',nc,\"Special chara\",sc)"
   ]
  },
  {
   "cell_type": "markdown",
   "metadata": {},
   "source": [
    "- sum of the digits in a string\n",
    "- sum of the even digits/odd digits sepearetly in string"
   ]
  },
  {
   "cell_type": "markdown",
   "metadata": {},
   "source": [
    "### Sum of digits  of string"
   ]
  },
  {
   "cell_type": "code",
   "execution_count": 125,
   "metadata": {},
   "outputs": [
    {
     "name": "stdout",
     "output_type": "stream",
     "text": [
      "3\t9\t5\t3\t2\t0\t2\t1\t1\t9\t3\t1\t0\t0\t1\t3\t2\t0\t2\t1\t1\t9\t3\t5\t1\t9\t9\t1\t3\t0\t\n",
      " count is  30\n",
      "\n",
      " total digits value is  89\n"
     ]
    }
   ],
   "source": [
    "count = 0\n",
    "val=0\n",
    "for char in s:\n",
    "    if char.isdigit():\n",
    "        val=int(char)+val\n",
    "        print(char,end ='\\t')\n",
    "        count += 1\n",
    "print(\"\\n count is \",count)\n",
    "print(\"\\n total digits value is \",val)"
   ]
  },
  {
   "cell_type": "markdown",
   "metadata": {},
   "source": [
    "### Sum of even / odd digits in string"
   ]
  },
  {
   "cell_type": "code",
   "execution_count": 129,
   "metadata": {},
   "outputs": [
    {
     "name": "stdout",
     "output_type": "stream",
     "text": [
      "even digits are  9\n",
      "odd digits are  21\n"
     ]
    }
   ],
   "source": [
    "even = 0\n",
    "odd = 0\n",
    "\n",
    "for char in s:\n",
    "    if char.isdigit():\n",
    "        a = int(char)\n",
    "        if a % 2 == 0:\n",
    "            even += 1\n",
    "            \n",
    "        else:\n",
    "            odd += 1\n",
    "            \n",
    "print(\"even digits are \",even)\n",
    "print(\"odd digits are \",odd)"
   ]
  },
  {
   "cell_type": "markdown",
   "metadata": {},
   "source": [
    "### Lists\n",
    "\n",
    "It is used to store the non-homogenous group of valid datatypes in python\n",
    "\n",
    "### Properties\n",
    "\n",
    "- declared as []\n",
    "- List is mutuable data type\n",
    "- List is ordered data\n",
    "- Iterable\n"
   ]
  },
  {
   "cell_type": "code",
   "execution_count": 100,
   "metadata": {},
   "outputs": [],
   "source": [
    "li = []\n",
    "\n",
    "li2 = list()"
   ]
  },
  {
   "cell_type": "code",
   "execution_count": 101,
   "metadata": {},
   "outputs": [
    {
     "name": "stdout",
     "output_type": "stream",
     "text": [
      "<class 'list'> <class 'list'>\n"
     ]
    }
   ],
   "source": [
    "print(type(li), type(li2))"
   ]
  },
  {
   "cell_type": "code",
   "execution_count": 102,
   "metadata": {},
   "outputs": [
    {
     "name": "stdout",
     "output_type": "stream",
     "text": [
      "[1, 2.1, (4+6j), 'abc', [1, 2, 3]]\n"
     ]
    }
   ],
   "source": [
    "li = [1, 2.1, 4 + 6j, 'abc', [1,2,3]]\n",
    "\n",
    "print(li)"
   ]
  },
  {
   "cell_type": "code",
   "execution_count": null,
   "metadata": {},
   "outputs": [],
   "source": []
  }
 ],
 "metadata": {
  "kernelspec": {
   "display_name": "Python 3",
   "language": "python",
   "name": "python3"
  },
  "language_info": {
   "codemirror_mode": {
    "name": "ipython",
    "version": 3
   },
   "file_extension": ".py",
   "mimetype": "text/x-python",
   "name": "python",
   "nbconvert_exporter": "python",
   "pygments_lexer": "ipython3",
   "version": "3.7.3"
  }
 },
 "nbformat": 4,
 "nbformat_minor": 2
}
