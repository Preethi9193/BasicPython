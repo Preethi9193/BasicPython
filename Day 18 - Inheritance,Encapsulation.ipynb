{
 "cells": [
  {
   "cell_type": "markdown",
   "metadata": {},
   "source": [
    "### Todays\n",
    "\n",
    "- Inheritance\n",
    "- Data Encapsulation\n",
    "- Polymorphism"
   ]
  },
  {
   "cell_type": "markdown",
   "metadata": {},
   "source": [
    "## Inheritance\n",
    "\n",
    "It is defined as capability of inheriting properties from parent to child class \n",
    "\n",
    "### Properties\n",
    " - It represents real world entities/ relations\n",
    " - Code reusability \n",
    " - Transitive in nature\n",
    " "
   ]
  },
  {
   "cell_type": "code",
   "execution_count": 1,
   "metadata": {},
   "outputs": [],
   "source": [
    "# Single Inheritance\n",
    "\n",
    "class parent:\n",
    "    def f1(self):\n",
    "        print(\"Parent Class\")\n",
    "class child(parent):\n",
    "    def f2(self):\n",
    "        print(\"Child Class\")\n",
    "        "
   ]
  },
  {
   "cell_type": "code",
   "execution_count": 2,
   "metadata": {},
   "outputs": [
    {
     "data": {
      "text/plain": [
       "['__class__',\n",
       " '__delattr__',\n",
       " '__dict__',\n",
       " '__dir__',\n",
       " '__doc__',\n",
       " '__eq__',\n",
       " '__format__',\n",
       " '__ge__',\n",
       " '__getattribute__',\n",
       " '__gt__',\n",
       " '__hash__',\n",
       " '__init__',\n",
       " '__init_subclass__',\n",
       " '__le__',\n",
       " '__lt__',\n",
       " '__module__',\n",
       " '__ne__',\n",
       " '__new__',\n",
       " '__reduce__',\n",
       " '__reduce_ex__',\n",
       " '__repr__',\n",
       " '__setattr__',\n",
       " '__sizeof__',\n",
       " '__str__',\n",
       " '__subclasshook__',\n",
       " '__weakref__',\n",
       " 'f1']"
      ]
     },
     "execution_count": 2,
     "metadata": {},
     "output_type": "execute_result"
    }
   ],
   "source": [
    "dir(parent)"
   ]
  },
  {
   "cell_type": "code",
   "execution_count": 3,
   "metadata": {},
   "outputs": [
    {
     "data": {
      "text/plain": [
       "['__class__',\n",
       " '__delattr__',\n",
       " '__dict__',\n",
       " '__dir__',\n",
       " '__doc__',\n",
       " '__eq__',\n",
       " '__format__',\n",
       " '__ge__',\n",
       " '__getattribute__',\n",
       " '__gt__',\n",
       " '__hash__',\n",
       " '__init__',\n",
       " '__init_subclass__',\n",
       " '__le__',\n",
       " '__lt__',\n",
       " '__module__',\n",
       " '__ne__',\n",
       " '__new__',\n",
       " '__reduce__',\n",
       " '__reduce_ex__',\n",
       " '__repr__',\n",
       " '__setattr__',\n",
       " '__sizeof__',\n",
       " '__str__',\n",
       " '__subclasshook__',\n",
       " '__weakref__',\n",
       " 'f1',\n",
       " 'f2']"
      ]
     },
     "execution_count": 3,
     "metadata": {},
     "output_type": "execute_result"
    }
   ],
   "source": [
    "dir(child)"
   ]
  },
  {
   "cell_type": "code",
   "execution_count": 4,
   "metadata": {},
   "outputs": [],
   "source": [
    " obj = child()"
   ]
  },
  {
   "cell_type": "code",
   "execution_count": 5,
   "metadata": {},
   "outputs": [
    {
     "name": "stdout",
     "output_type": "stream",
     "text": [
      "<__main__.child object at 0x0000020F63813240>\n"
     ]
    }
   ],
   "source": [
    "print(obj)"
   ]
  },
  {
   "cell_type": "code",
   "execution_count": 7,
   "metadata": {},
   "outputs": [
    {
     "name": "stdout",
     "output_type": "stream",
     "text": [
      "Parent Class\n",
      "None\n"
     ]
    }
   ],
   "source": [
    "print(obj.f1())"
   ]
  },
  {
   "cell_type": "code",
   "execution_count": 8,
   "metadata": {},
   "outputs": [
    {
     "name": "stdout",
     "output_type": "stream",
     "text": [
      "Child Class\n"
     ]
    }
   ],
   "source": [
    "obj.f2()"
   ]
  },
  {
   "cell_type": "markdown",
   "metadata": {},
   "source": [
    "### Types of inheritance\n",
    "\n",
    "- Single inheritance\n",
    "- Multilevel inheritance\n",
    "- Multiple  inheritance\n",
    "- Hierarchical inheritance\n",
    "- Hybrid inheritance"
   ]
  },
  {
   "cell_type": "code",
   "execution_count": 9,
   "metadata": {},
   "outputs": [
    {
     "name": "stdout",
     "output_type": "stream",
     "text": [
      "Child Class\n",
      "Parent Class\n"
     ]
    }
   ],
   "source": [
    "# Single inheritance\n",
    "\n",
    "class parent:\n",
    "    def f1(self):\n",
    "        print(\"Parent Class\")\n",
    "class child(parent):\n",
    "    def f2(self):\n",
    "        print(\"Child Class\")\n",
    "x = child()\n",
    "x.f2()\n",
    "x.f1()"
   ]
  },
  {
   "cell_type": "code",
   "execution_count": 11,
   "metadata": {},
   "outputs": [
    {
     "name": "stdout",
     "output_type": "stream",
     "text": [
      "class C funtion f3\n",
      "class B function f2\n",
      "class A function f1\n"
     ]
    }
   ],
   "source": [
    "# Multiple Inheritance -> single child can access/inherits properties \n",
    "# from two or more parent class\n",
    "\n",
    "class A:\n",
    "    def f1(self):\n",
    "        print(\"class A function f1\")\n",
    "class B:\n",
    "    def f2(self):\n",
    "        print(\"class B function f2\")\n",
    "class C(A, B):\n",
    "    def f3(self):\n",
    "        print(\"class C funtion f3\")\n",
    "x = C()\n",
    "x.f3()\n",
    "x.f2()\n",
    "x.f1()\n"
   ]
  },
  {
   "cell_type": "code",
   "execution_count": 12,
   "metadata": {
    "collapsed": true
   },
   "outputs": [
    {
     "data": {
      "text/plain": [
       "['__class__',\n",
       " '__delattr__',\n",
       " '__dict__',\n",
       " '__dir__',\n",
       " '__doc__',\n",
       " '__eq__',\n",
       " '__format__',\n",
       " '__ge__',\n",
       " '__getattribute__',\n",
       " '__gt__',\n",
       " '__hash__',\n",
       " '__init__',\n",
       " '__init_subclass__',\n",
       " '__le__',\n",
       " '__lt__',\n",
       " '__module__',\n",
       " '__ne__',\n",
       " '__new__',\n",
       " '__reduce__',\n",
       " '__reduce_ex__',\n",
       " '__repr__',\n",
       " '__setattr__',\n",
       " '__sizeof__',\n",
       " '__str__',\n",
       " '__subclasshook__',\n",
       " '__weakref__',\n",
       " 'f1',\n",
       " 'f2',\n",
       " 'f3']"
      ]
     },
     "execution_count": 12,
     "metadata": {},
     "output_type": "execute_result"
    }
   ],
   "source": [
    "dir(x)"
   ]
  },
  {
   "cell_type": "code",
   "execution_count": 16,
   "metadata": {},
   "outputs": [
    {
     "name": "stdout",
     "output_type": "stream",
     "text": [
      "Child class\n",
      "Parent Class\n",
      "GrandParent Class\n"
     ]
    }
   ],
   "source": [
    "# Multilevel Inheritance -> the properties of one parent class \n",
    "# inherits to another child class and it acts as parent class to \n",
    "# new child class\n",
    "# (OR) features of the base class and derived class are future \n",
    "# inherited into the new derived class\n",
    "\n",
    "class grandparent:\n",
    "    def f1(self):\n",
    "        print(\"GrandParent Class\")\n",
    "class parent(grandparent):\n",
    "    def f2(self):\n",
    "        print(\"Parent Class\")\n",
    "class child(parent):\n",
    "    def f3(self):\n",
    "        print(\"Child class\")\n",
    "x = child()\n",
    "y = parent()\n",
    "x.f3()\n",
    "x.f2()\n",
    "x.f1() # we get grandparent using parent class only \n"
   ]
  },
  {
   "cell_type": "code",
   "execution_count": 19,
   "metadata": {},
   "outputs": [
    {
     "name": "stdout",
     "output_type": "stream",
     "text": [
      "Parent class\n",
      "Child one class\n",
      "Parent class\n",
      "Child two class\n"
     ]
    }
   ],
   "source": [
    "# Hierarchical Inheritance ->  when more than one derived classes \n",
    "# can inherits the properties from single parent class\n",
    "\n",
    "class p1:\n",
    "    def fun1(self):\n",
    "        print(\"Parent class\")\n",
    "class c1(p1):\n",
    "    def fun2(self):\n",
    "        print(\"Child one class\")\n",
    "class c2(p1):\n",
    "    def fun3(self):\n",
    "        print(\"Child two class\")\n",
    "    \n",
    "obj = c1() # child one object\n",
    "obj.fun1()\n",
    "obj.fun2()\n",
    "\n",
    "obj1 = c2()# child two object\n",
    "obj1.fun1()\n",
    "obj1.fun3()"
   ]
  },
  {
   "cell_type": "code",
   "execution_count": 21,
   "metadata": {},
   "outputs": [
    {
     "name": "stdout",
     "output_type": "stream",
     "text": [
      "College Class\n",
      "Student one Class\n",
      "College Class\n",
      "Student one Class\n",
      "Student two class\n"
     ]
    }
   ],
   "source": [
    "# Hybrid inheritance -> Inheritance consisting of multiple \n",
    "# types of inheritances\n",
    "\n",
    "class clg:\n",
    "    def f1(self):\n",
    "        print(\"College Class\")\n",
    "class s1(clg):\n",
    "    def f2(self):\n",
    "        print(\"Student one Class\")\n",
    "class s2(s1,clg):\n",
    "    def f3(self):\n",
    "        print(\"Student two class\")\n",
    "\n",
    "x = s1()\n",
    "x.f1()\n",
    "x.f2()\n",
    "\n",
    "y = s2()\n",
    "y.f1()\n",
    "y.f2()\n",
    "y.f3()"
   ]
  },
  {
   "cell_type": "markdown",
   "metadata": {},
   "source": [
    "### Encapsulation\n",
    "\n",
    "- It is one of the fundamental concept in oops \n",
    "- It describes like data wrapping within single unit\n",
    "- Restrict the accessing of variables and methods of a class directly\n",
    "- private variable and private methods\n",
    "    - use '__' to define private methods or private variables"
   ]
  },
  {
   "cell_type": "code",
   "execution_count": 24,
   "metadata": {},
   "outputs": [],
   "source": [
    "# Private variables\n",
    "class  python:\n",
    "    def __init__(self):\n",
    "        self.__a = 'apssdc'\n",
    "    def view(self):\n",
    "        print(self.__a)\n",
    "    def v1(self,b):\n",
    "        self.__a = b\n",
    "        print(self.__a)\n",
    "        \n",
    "        \n",
    "x = python()"
   ]
  },
  {
   "cell_type": "code",
   "execution_count": 25,
   "metadata": {},
   "outputs": [
    {
     "name": "stdout",
     "output_type": "stream",
     "text": [
      "apssdc\n"
     ]
    }
   ],
   "source": [
    "x.view()"
   ]
  },
  {
   "cell_type": "code",
   "execution_count": 27,
   "metadata": {},
   "outputs": [
    {
     "name": "stdout",
     "output_type": "stream",
     "text": [
      "datascience\n"
     ]
    }
   ],
   "source": [
    "x.v1('datascience')"
   ]
  },
  {
   "cell_type": "code",
   "execution_count": 28,
   "metadata": {},
   "outputs": [
    {
     "ename": "TypeError",
     "evalue": "v1() missing 1 required positional argument: 'b'",
     "output_type": "error",
     "traceback": [
      "\u001b[1;31m---------------------------------------------------------------------------\u001b[0m",
      "\u001b[1;31mTypeError\u001b[0m                                 Traceback (most recent call last)",
      "\u001b[1;32m<ipython-input-28-998255269b37>\u001b[0m in \u001b[0;36m<module>\u001b[1;34m\u001b[0m\n\u001b[1;32m----> 1\u001b[1;33m \u001b[0mx\u001b[0m\u001b[1;33m.\u001b[0m\u001b[0mv1\u001b[0m\u001b[1;33m(\u001b[0m\u001b[1;33m)\u001b[0m\u001b[1;33m\u001b[0m\u001b[1;33m\u001b[0m\u001b[0m\n\u001b[0m",
      "\u001b[1;31mTypeError\u001b[0m: v1() missing 1 required positional argument: 'b'"
     ]
    }
   ],
   "source": [
    "x.v1()"
   ]
  },
  {
   "cell_type": "code",
   "execution_count": 32,
   "metadata": {},
   "outputs": [],
   "source": [
    "class m1:\n",
    "    __a = 10\n",
    "    def add(self,b):\n",
    "        sum = self.__a+b\n",
    "        return(sum)\n",
    "ob = m1()"
   ]
  },
  {
   "cell_type": "code",
   "execution_count": 33,
   "metadata": {},
   "outputs": [
    {
     "data": {
      "text/plain": [
       "131"
      ]
     },
     "execution_count": 33,
     "metadata": {},
     "output_type": "execute_result"
    }
   ],
   "source": [
    "ob.add(121)"
   ]
  },
  {
   "cell_type": "code",
   "execution_count": 34,
   "metadata": {},
   "outputs": [
    {
     "ename": "AttributeError",
     "evalue": "'m1' object has no attribute '__a'",
     "output_type": "error",
     "traceback": [
      "\u001b[1;31m---------------------------------------------------------------------------\u001b[0m",
      "\u001b[1;31mAttributeError\u001b[0m                            Traceback (most recent call last)",
      "\u001b[1;32m<ipython-input-34-1646835dda10>\u001b[0m in \u001b[0;36m<module>\u001b[1;34m\u001b[0m\n\u001b[1;32m----> 1\u001b[1;33m \u001b[0mob\u001b[0m\u001b[1;33m.\u001b[0m\u001b[0m__a\u001b[0m\u001b[1;33m\u001b[0m\u001b[1;33m\u001b[0m\u001b[0m\n\u001b[0m",
      "\u001b[1;31mAttributeError\u001b[0m: 'm1' object has no attribute '__a'"
     ]
    }
   ],
   "source": [
    "ob.__a"
   ]
  },
  {
   "cell_type": "code",
   "execution_count": 19,
   "metadata": {},
   "outputs": [],
   "source": [
    "# Private Methods\n",
    "\n",
    "class car:\n",
    "    def __inti__(self):\n",
    "        self.__update()\n",
    "    def drive(self):\n",
    "        print(\"Driving\")\n",
    "    def __update(self):\n",
    "        print(\"Update your software\")\n",
    "c=car()"
   ]
  },
  {
   "cell_type": "code",
   "execution_count": 20,
   "metadata": {},
   "outputs": [
    {
     "ename": "TypeError",
     "evalue": "car() takes no arguments",
     "output_type": "error",
     "traceback": [
      "\u001b[1;31m---------------------------------------------------------------------------\u001b[0m",
      "\u001b[1;31mTypeError\u001b[0m                                 Traceback (most recent call last)",
      "\u001b[1;32m<ipython-input-20-dad05f2ae409>\u001b[0m in \u001b[0;36m<module>\u001b[1;34m\u001b[0m\n\u001b[0;32m     10\u001b[0m         \u001b[0mprint\u001b[0m\u001b[1;33m(\u001b[0m\u001b[0mself\u001b[0m\u001b[1;33m.\u001b[0m\u001b[0mx\u001b[0m\u001b[1;33m)\u001b[0m\u001b[1;33m\u001b[0m\u001b[1;33m\u001b[0m\u001b[0m\n\u001b[0;32m     11\u001b[0m         \u001b[0mprint\u001b[0m\u001b[1;33m(\u001b[0m\u001b[1;34m\"Update your software\"\u001b[0m\u001b[1;33m)\u001b[0m\u001b[1;33m\u001b[0m\u001b[1;33m\u001b[0m\u001b[0m\n\u001b[1;32m---> 12\u001b[1;33m \u001b[0mc\u001b[0m\u001b[1;33m=\u001b[0m\u001b[0mcar\u001b[0m\u001b[1;33m(\u001b[0m\u001b[1;36m1\u001b[0m\u001b[1;33m)\u001b[0m\u001b[1;33m\u001b[0m\u001b[1;33m\u001b[0m\u001b[0m\n\u001b[0m",
      "\u001b[1;31mTypeError\u001b[0m: car() takes no arguments"
     ]
    }
   ],
   "source": [
    "# Private Methods\n",
    "\n",
    "class car:\n",
    "    def __inti__(self,x):\n",
    "        self.x = x\n",
    "        self.__update(x)\n",
    "    def drive (self):\n",
    "        print(\"Driving\")\n",
    "    def __update(self,x):\n",
    "        print(self.x)\n",
    "        print(\"Update your software\")\n",
    "c=car(1)"
   ]
  },
  {
   "cell_type": "code",
   "execution_count": 15,
   "metadata": {},
   "outputs": [
    {
     "name": "stdout",
     "output_type": "stream",
     "text": [
      "Driving\n"
     ]
    }
   ],
   "source": [
    "c.drive()"
   ]
  },
  {
   "cell_type": "code",
   "execution_count": 16,
   "metadata": {},
   "outputs": [
    {
     "ename": "AttributeError",
     "evalue": "'car' object has no attribute '__update'",
     "output_type": "error",
     "traceback": [
      "\u001b[1;31m---------------------------------------------------------------------------\u001b[0m",
      "\u001b[1;31mAttributeError\u001b[0m                            Traceback (most recent call last)",
      "\u001b[1;32m<ipython-input-16-e47b3e662fa7>\u001b[0m in \u001b[0;36m<module>\u001b[1;34m\u001b[0m\n\u001b[1;32m----> 1\u001b[1;33m \u001b[0mc\u001b[0m\u001b[1;33m.\u001b[0m\u001b[0m__update\u001b[0m\u001b[1;33m(\u001b[0m\u001b[1;36m2\u001b[0m\u001b[1;33m)\u001b[0m\u001b[1;33m\u001b[0m\u001b[1;33m\u001b[0m\u001b[0m\n\u001b[0m",
      "\u001b[1;31mAttributeError\u001b[0m: 'car' object has no attribute '__update'"
     ]
    }
   ],
   "source": [
    "c.__update(2)"
   ]
  },
  {
   "cell_type": "markdown",
   "metadata": {},
   "source": [
    "## constructor in inheritance"
   ]
  },
  {
   "cell_type": "code",
   "execution_count": 32,
   "metadata": {},
   "outputs": [
    {
     "name": "stdout",
     "output_type": "stream",
     "text": [
      "P1 Constructor\n",
      "belongs to c1 constructor\n"
     ]
    }
   ],
   "source": [
    "class p1:\n",
    "    def __init__(self):\n",
    "        print(\"P1 Constructor\")\n",
    "    def fun1(self):\n",
    "        print(\"Parent class\")\n",
    "class c1(p1):\n",
    "    def __init__(self):\n",
    "        super().__init__()\n",
    "        print(\"belongs to c1 constructor\")\n",
    "    def fun2(self):\n",
    "        print(\"Child one class\")\n",
    "class c2(p1):\n",
    "    def fun3(self):\n",
    "        print(\"Child two class\")\n",
    "    \n",
    "#a = p1()\n",
    "b = c1()\n",
    "\n",
    "#obj = c1() # child one object\n",
    "#obj.fun1()\n",
    "#obj.fun2()\n",
    "\n",
    "#obj1 = c2()# child two object\n",
    "#obj1.fun1()\n",
    "#obj1.fun3()"
   ]
  },
  {
   "cell_type": "code",
   "execution_count": 37,
   "metadata": {},
   "outputs": [
    {
     "name": "stdout",
     "output_type": "stream",
     "text": [
      "P1 Constructor\n",
      "belongs to c1 constructor\n"
     ]
    }
   ],
   "source": [
    "class p1:\n",
    "    def __init__(self):\n",
    "        print(\"P1 Constructor\")\n",
    "    def fun1(self):\n",
    "        print(\"Parent class\")\n",
    "class p2:\n",
    "    def __init__(self):\n",
    "        print(\"P2 Constructor\")\n",
    "    def fun2(self):\n",
    "        print(\"Parent two class\")\n",
    "class c1(p1,p2):\n",
    "    def __init__(self):\n",
    "        super().__init__()\n",
    "        print(\"belongs to c1 constructor\")\n",
    "    def fun3(self):\n",
    "        super().fun2()\n",
    "        print(\"Child one class\")\n",
    "a = c1()"
   ]
  },
  {
   "cell_type": "code",
   "execution_count": 38,
   "metadata": {},
   "outputs": [
    {
     "name": "stdout",
     "output_type": "stream",
     "text": [
      "Parent two class\n",
      "Child one class\n"
     ]
    }
   ],
   "source": [
    "a.fun3()"
   ]
  },
  {
   "cell_type": "code",
   "execution_count": null,
   "metadata": {},
   "outputs": [],
   "source": []
  }
 ],
 "metadata": {
  "kernelspec": {
   "display_name": "Python 3",
   "language": "python",
   "name": "python3"
  },
  "language_info": {
   "codemirror_mode": {
    "name": "ipython",
    "version": 3
   },
   "file_extension": ".py",
   "mimetype": "text/x-python",
   "name": "python",
   "nbconvert_exporter": "python",
   "pygments_lexer": "ipython3",
   "version": "3.7.3"
  }
 },
 "nbformat": 4,
 "nbformat_minor": 2
}
