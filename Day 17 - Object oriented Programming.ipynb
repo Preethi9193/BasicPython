{
 "cells": [
  {
   "cell_type": "markdown",
   "metadata": {},
   "source": [
    "### Todays\n",
    "\n",
    "- Iteratos\n",
    "- Generators\n",
    "- Object Oriented Programming"
   ]
  },
  {
   "cell_type": "markdown",
   "metadata": {},
   "source": [
    "### Iterators\n",
    "\n",
    "list, string, tuple, set, dictionary"
   ]
  },
  {
   "cell_type": "markdown",
   "metadata": {},
   "source": [
    "100 lines of code\n",
    "\n",
    "strin with 50 characters\n",
    "\n",
    "50 lines  I need 25 characters\n",
    "\n",
    "100 I need 25 charater"
   ]
  },
  {
   "cell_type": "code",
   "execution_count": 1,
   "metadata": {},
   "outputs": [],
   "source": [
    "s = \"\"\"Python is an interpreted high-level \n",
    "general-purpose programming language. \n",
    "Python's design philosophy emphasizes code \n",
    "readability with its notable use of significant\n",
    "indentation. Its language constructs as well as its \n",
    "object-oriented approach aim to help \n",
    "programmers write clear, logical code for\n",
    "small and large-scale projects.\"\"\""
   ]
  },
  {
   "cell_type": "code",
   "execution_count": 4,
   "metadata": {},
   "outputs": [
    {
     "name": "stdout",
     "output_type": "stream",
     "text": [
      "<str_iterator object at 0x00000245581F4EB8>\n"
     ]
    }
   ],
   "source": [
    "it = iter(s)\n",
    "\n",
    "print(it)"
   ]
  },
  {
   "cell_type": "code",
   "execution_count": 5,
   "metadata": {},
   "outputs": [
    {
     "data": {
      "text/plain": [
       "'P'"
      ]
     },
     "execution_count": 5,
     "metadata": {},
     "output_type": "execute_result"
    }
   ],
   "source": [
    "next(it)"
   ]
  },
  {
   "cell_type": "code",
   "execution_count": 6,
   "metadata": {},
   "outputs": [
    {
     "name": "stdout",
     "output_type": "stream",
     "text": [
      "y\n"
     ]
    }
   ],
   "source": [
    "print(next(it))"
   ]
  },
  {
   "cell_type": "code",
   "execution_count": 7,
   "metadata": {
    "collapsed": true
   },
   "outputs": [
    {
     "name": "stdout",
     "output_type": "stream",
     "text": [
      "t\n",
      "h\n",
      "o\n",
      "n\n",
      " \n",
      "i\n",
      "s\n",
      " \n",
      "a\n",
      "n\n",
      " \n"
     ]
    }
   ],
   "source": [
    "for i in range(11):\n",
    "    print(next(it))"
   ]
  },
  {
   "cell_type": "code",
   "execution_count": 8,
   "metadata": {},
   "outputs": [
    {
     "data": {
      "text/plain": [
       "'i'"
      ]
     },
     "execution_count": 8,
     "metadata": {},
     "output_type": "execute_result"
    }
   ],
   "source": [
    "next(it)"
   ]
  },
  {
   "cell_type": "code",
   "execution_count": 10,
   "metadata": {},
   "outputs": [],
   "source": [
    "it1 = iter('python')\n",
    "it2 = 'python'"
   ]
  },
  {
   "cell_type": "code",
   "execution_count": 11,
   "metadata": {
    "collapsed": true
   },
   "outputs": [
    {
     "name": "stdout",
     "output_type": "stream",
     "text": [
      "p\n",
      "y\n",
      "t\n",
      "h\n",
      "o\n",
      "n\n"
     ]
    }
   ],
   "source": [
    "for i in it1:\n",
    "    print(i)"
   ]
  },
  {
   "cell_type": "code",
   "execution_count": 12,
   "metadata": {
    "collapsed": true
   },
   "outputs": [
    {
     "name": "stdout",
     "output_type": "stream",
     "text": [
      "p\n",
      "y\n",
      "t\n",
      "h\n",
      "o\n",
      "n\n"
     ]
    }
   ],
   "source": [
    "for j in it2:\n",
    "    print(j)"
   ]
  },
  {
   "cell_type": "code",
   "execution_count": 13,
   "metadata": {
    "collapsed": true
   },
   "outputs": [
    {
     "ename": "StopIteration",
     "evalue": "",
     "output_type": "error",
     "traceback": [
      "\u001b[1;31m---------------------------------------------------------------------------\u001b[0m",
      "\u001b[1;31mStopIteration\u001b[0m                             Traceback (most recent call last)",
      "\u001b[1;32m<ipython-input-13-a1664e0d0ec1>\u001b[0m in \u001b[0;36m<module>\u001b[1;34m\u001b[0m\n\u001b[1;32m----> 1\u001b[1;33m \u001b[0mprint\u001b[0m\u001b[1;33m(\u001b[0m\u001b[0mnext\u001b[0m\u001b[1;33m(\u001b[0m\u001b[0mit1\u001b[0m\u001b[1;33m)\u001b[0m\u001b[1;33m)\u001b[0m\u001b[1;33m\u001b[0m\u001b[1;33m\u001b[0m\u001b[0m\n\u001b[0m",
      "\u001b[1;31mStopIteration\u001b[0m: "
     ]
    }
   ],
   "source": [
    "print(next(it1))"
   ]
  },
  {
   "cell_type": "code",
   "execution_count": 15,
   "metadata": {},
   "outputs": [],
   "source": [
    "li = [1,2,3,4,5]\n",
    "\n",
    "li2 = iter([1,2,3,4,5])"
   ]
  },
  {
   "cell_type": "code",
   "execution_count": 16,
   "metadata": {},
   "outputs": [
    {
     "name": "stdout",
     "output_type": "stream",
     "text": [
      "[1, 2, 3, 4, 5] <list_iterator object at 0x000002455829B470>\n"
     ]
    }
   ],
   "source": [
    "print(li,li2)"
   ]
  },
  {
   "cell_type": "code",
   "execution_count": 17,
   "metadata": {},
   "outputs": [
    {
     "data": {
      "text/plain": [
       "1"
      ]
     },
     "execution_count": 17,
     "metadata": {},
     "output_type": "execute_result"
    }
   ],
   "source": [
    "next(li2)"
   ]
  },
  {
   "cell_type": "code",
   "execution_count": 18,
   "metadata": {},
   "outputs": [
    {
     "name": "stdout",
     "output_type": "stream",
     "text": [
      "2\n"
     ]
    }
   ],
   "source": [
    "print(next(li2))"
   ]
  },
  {
   "cell_type": "code",
   "execution_count": 21,
   "metadata": {},
   "outputs": [
    {
     "data": {
      "text/plain": [
       "5"
      ]
     },
     "execution_count": 21,
     "metadata": {},
     "output_type": "execute_result"
    }
   ],
   "source": [
    "next(li2)"
   ]
  },
  {
   "cell_type": "code",
   "execution_count": 22,
   "metadata": {},
   "outputs": [],
   "source": [
    "li2 = iter([1,2,3,4,5])"
   ]
  },
  {
   "cell_type": "code",
   "execution_count": 23,
   "metadata": {},
   "outputs": [
    {
     "name": "stdout",
     "output_type": "stream",
     "text": [
      "1\n",
      "2\n",
      "3\n"
     ]
    }
   ],
   "source": [
    "for i in range(3):\n",
    "    print(next(li2))"
   ]
  },
  {
   "cell_type": "code",
   "execution_count": 24,
   "metadata": {},
   "outputs": [
    {
     "name": "stdout",
     "output_type": "stream",
     "text": [
      "4\n",
      "5\n"
     ]
    },
    {
     "ename": "StopIteration",
     "evalue": "",
     "output_type": "error",
     "traceback": [
      "\u001b[1;31m---------------------------------------------------------------------------\u001b[0m",
      "\u001b[1;31mStopIteration\u001b[0m                             Traceback (most recent call last)",
      "\u001b[1;32m<ipython-input-24-9c42caeb07b7>\u001b[0m in \u001b[0;36m<module>\u001b[1;34m\u001b[0m\n\u001b[0;32m      1\u001b[0m \u001b[1;32mfor\u001b[0m \u001b[0mi\u001b[0m \u001b[1;32min\u001b[0m \u001b[0mrange\u001b[0m\u001b[1;33m(\u001b[0m\u001b[1;36m3\u001b[0m\u001b[1;33m)\u001b[0m\u001b[1;33m:\u001b[0m\u001b[1;33m\u001b[0m\u001b[1;33m\u001b[0m\u001b[0m\n\u001b[1;32m----> 2\u001b[1;33m     \u001b[0mprint\u001b[0m\u001b[1;33m(\u001b[0m\u001b[0mnext\u001b[0m\u001b[1;33m(\u001b[0m\u001b[0mli2\u001b[0m\u001b[1;33m)\u001b[0m\u001b[1;33m)\u001b[0m\u001b[1;33m\u001b[0m\u001b[1;33m\u001b[0m\u001b[0m\n\u001b[0m",
      "\u001b[1;31mStopIteration\u001b[0m: "
     ]
    }
   ],
   "source": [
    "for i in range(3):\n",
    "    print(next(li2))"
   ]
  },
  {
   "cell_type": "markdown",
   "metadata": {},
   "source": [
    "### Generator\n",
    "\n",
    " - yield -> used to return the output after execution of a function to the user "
   ]
  },
  {
   "cell_type": "code",
   "execution_count": 26,
   "metadata": {},
   "outputs": [],
   "source": [
    "def gen():\n",
    "    a = 10\n",
    "    yield a\n",
    "    \n",
    "    a **= 5\n",
    "    yield a\n",
    "    \n",
    "    a **=10\n",
    "    yield a"
   ]
  },
  {
   "cell_type": "code",
   "execution_count": 27,
   "metadata": {},
   "outputs": [],
   "source": [
    "g = gen()"
   ]
  },
  {
   "cell_type": "code",
   "execution_count": 28,
   "metadata": {},
   "outputs": [
    {
     "data": {
      "text/plain": [
       "10"
      ]
     },
     "execution_count": 28,
     "metadata": {},
     "output_type": "execute_result"
    }
   ],
   "source": [
    "next(g)"
   ]
  },
  {
   "cell_type": "code",
   "execution_count": 29,
   "metadata": {},
   "outputs": [
    {
     "data": {
      "text/plain": [
       "10"
      ]
     },
     "execution_count": 29,
     "metadata": {},
     "output_type": "execute_result"
    }
   ],
   "source": [
    "next(gen())"
   ]
  },
  {
   "cell_type": "code",
   "execution_count": 30,
   "metadata": {},
   "outputs": [
    {
     "data": {
      "text/plain": [
       "100000"
      ]
     },
     "execution_count": 30,
     "metadata": {},
     "output_type": "execute_result"
    }
   ],
   "source": [
    "next(g)"
   ]
  },
  {
   "cell_type": "code",
   "execution_count": 31,
   "metadata": {},
   "outputs": [
    {
     "data": {
      "text/plain": [
       "100000000000000000000000000000000000000000000000000"
      ]
     },
     "execution_count": 31,
     "metadata": {},
     "output_type": "execute_result"
    }
   ],
   "source": [
    "next(g)"
   ]
  },
  {
   "cell_type": "code",
   "execution_count": 32,
   "metadata": {},
   "outputs": [
    {
     "ename": "StopIteration",
     "evalue": "",
     "output_type": "error",
     "traceback": [
      "\u001b[1;31m---------------------------------------------------------------------------\u001b[0m",
      "\u001b[1;31mStopIteration\u001b[0m                             Traceback (most recent call last)",
      "\u001b[1;32m<ipython-input-32-e734f8aca5ac>\u001b[0m in \u001b[0;36m<module>\u001b[1;34m\u001b[0m\n\u001b[1;32m----> 1\u001b[1;33m \u001b[0mnext\u001b[0m\u001b[1;33m(\u001b[0m\u001b[0mg\u001b[0m\u001b[1;33m)\u001b[0m\u001b[1;33m\u001b[0m\u001b[1;33m\u001b[0m\u001b[0m\n\u001b[0m",
      "\u001b[1;31mStopIteration\u001b[0m: "
     ]
    }
   ],
   "source": [
    "next(g)"
   ]
  },
  {
   "cell_type": "code",
   "execution_count": 34,
   "metadata": {},
   "outputs": [
    {
     "name": "stdout",
     "output_type": "stream",
     "text": [
      "<generator object <genexpr> at 0x00000245582971B0>\n"
     ]
    }
   ],
   "source": [
    "t1 = (i for i in range(100))\n",
    "\n",
    "print(t1)"
   ]
  },
  {
   "cell_type": "code",
   "execution_count": 35,
   "metadata": {},
   "outputs": [
    {
     "data": {
      "text/plain": [
       "0"
      ]
     },
     "execution_count": 35,
     "metadata": {},
     "output_type": "execute_result"
    }
   ],
   "source": [
    "next(t1)"
   ]
  },
  {
   "cell_type": "code",
   "execution_count": 36,
   "metadata": {
    "scrolled": true
   },
   "outputs": [
    {
     "data": {
      "text/plain": [
       "range(0, 100)"
      ]
     },
     "execution_count": 36,
     "metadata": {},
     "output_type": "execute_result"
    }
   ],
   "source": [
    "range(0,100)"
   ]
  },
  {
   "cell_type": "code",
   "execution_count": 37,
   "metadata": {},
   "outputs": [],
   "source": [
    "li = range(0,100)"
   ]
  },
  {
   "cell_type": "code",
   "execution_count": 38,
   "metadata": {
    "collapsed": true
   },
   "outputs": [
    {
     "name": "stdout",
     "output_type": "stream",
     "text": [
      "0\n",
      "1\n",
      "2\n",
      "3\n",
      "4\n",
      "5\n",
      "6\n",
      "7\n",
      "8\n",
      "9\n",
      "10\n"
     ]
    }
   ],
   "source": [
    "for i in li:\n",
    "    print(i)\n",
    "    if i == 10:\n",
    "        break"
   ]
  },
  {
   "cell_type": "code",
   "execution_count": 39,
   "metadata": {
    "collapsed": true
   },
   "outputs": [
    {
     "name": "stdout",
     "output_type": "stream",
     "text": [
      "0\n",
      "1\n",
      "2\n",
      "3\n",
      "4\n",
      "5\n",
      "6\n",
      "7\n",
      "8\n",
      "9\n",
      "10\n"
     ]
    }
   ],
   "source": [
    "for i in li:\n",
    "    print(i)\n",
    "    if i == 10:\n",
    "        break"
   ]
  },
  {
   "cell_type": "code",
   "execution_count": 40,
   "metadata": {
    "collapsed": true
   },
   "outputs": [
    {
     "name": "stdout",
     "output_type": "stream",
     "text": [
      "1\n",
      "2\n",
      "3\n",
      "4\n",
      "5\n",
      "6\n",
      "7\n",
      "8\n",
      "9\n",
      "10\n"
     ]
    }
   ],
   "source": [
    "for i in t1:\n",
    "    print(i)\n",
    "    if i == 10:\n",
    "        break"
   ]
  },
  {
   "cell_type": "code",
   "execution_count": 45,
   "metadata": {},
   "outputs": [],
   "source": [
    "for i in t1:\n",
    "    print(i)\n",
    "    if i == 20:\n",
    "        break"
   ]
  },
  {
   "cell_type": "markdown",
   "metadata": {},
   "source": [
    "### Object Oriented Programming\n",
    "\n",
    "- Attributes -> Variables created inside class\n",
    "- Method -> Function ceated inside the class\n",
    "- Class -> Blueprint for the Object -> Design of a thing -> No memory\n",
    "- Object -> Instance of the class -> It occupies the memeory\n",
    "\n",
    "\n",
    "### Structure\n",
    "\n",
    "```python\n",
    "\n",
    "class ClassName:\n",
    "    \"\"\"Doc String\"\"\"\n",
    "    Attributes\n",
    "    Methods\n",
    "```"
   ]
  },
  {
   "cell_type": "code",
   "execution_count": 46,
   "metadata": {},
   "outputs": [],
   "source": [
    "class Student:\n",
    "    \"\"\"This is blueprint created for student id card\"\"\"\n",
    "    pass"
   ]
  },
  {
   "cell_type": "code",
   "execution_count": 47,
   "metadata": {},
   "outputs": [],
   "source": [
    "preeti = Student() "
   ]
  },
  {
   "cell_type": "code",
   "execution_count": 48,
   "metadata": {},
   "outputs": [
    {
     "ename": "SyntaxError",
     "evalue": "unexpected EOF while parsing (<ipython-input-48-29f97fd7958c>, line 2)",
     "output_type": "error",
     "traceback": [
      "\u001b[1;36m  File \u001b[1;32m\"<ipython-input-48-29f97fd7958c>\"\u001b[1;36m, line \u001b[1;32m2\u001b[0m\n\u001b[1;33m    \u001b[0m\n\u001b[1;37m    ^\u001b[0m\n\u001b[1;31mSyntaxError\u001b[0m\u001b[1;31m:\u001b[0m unexpected EOF while parsing\n"
     ]
    }
   ],
   "source": [
    "class Student2:\n",
    "    "
   ]
  },
  {
   "cell_type": "code",
   "execution_count": 49,
   "metadata": {},
   "outputs": [],
   "source": [
    "class Student2:\n",
    "    pass"
   ]
  },
  {
   "cell_type": "code",
   "execution_count": 50,
   "metadata": {},
   "outputs": [
    {
     "name": "stdout",
     "output_type": "stream",
     "text": [
      "<__main__.Student object at 0x00000245582A39E8>\n"
     ]
    }
   ],
   "source": [
    "print(preeti)"
   ]
  },
  {
   "cell_type": "code",
   "execution_count": 51,
   "metadata": {},
   "outputs": [
    {
     "data": {
      "text/plain": [
       "'This is blueprint crreated for student id card'"
      ]
     },
     "execution_count": 51,
     "metadata": {},
     "output_type": "execute_result"
    }
   ],
   "source": [
    "preeti.__doc__"
   ]
  },
  {
   "cell_type": "code",
   "execution_count": 52,
   "metadata": {},
   "outputs": [
    {
     "data": {
      "text/plain": [
       "'This is blueprint crreated for student id card'"
      ]
     },
     "execution_count": 52,
     "metadata": {},
     "output_type": "execute_result"
    }
   ],
   "source": [
    "Student.__doc__"
   ]
  },
  {
   "cell_type": "code",
   "execution_count": 53,
   "metadata": {},
   "outputs": [],
   "source": [
    "class Student:\n",
    "    \"\"\"This is blueprint created for student id card\"\"\"\n",
    "    college = 'APSSDC'\n",
    "    brance = 'Data Science'\n",
    "    collegeAddress = 'Tadepalli, Guntur'"
   ]
  },
  {
   "cell_type": "code",
   "execution_count": 57,
   "metadata": {},
   "outputs": [],
   "source": [
    "std = Student()\n",
    "std1 = Student()\n"
   ]
  },
  {
   "cell_type": "code",
   "execution_count": 58,
   "metadata": {},
   "outputs": [
    {
     "data": {
      "text/plain": [
       "'APSSDC'"
      ]
     },
     "execution_count": 58,
     "metadata": {},
     "output_type": "execute_result"
    }
   ],
   "source": [
    "std.college"
   ]
  },
  {
   "cell_type": "code",
   "execution_count": 59,
   "metadata": {},
   "outputs": [
    {
     "data": {
      "text/plain": [
       "'APSSDC'"
      ]
     },
     "execution_count": 59,
     "metadata": {},
     "output_type": "execute_result"
    }
   ],
   "source": [
    "std1.college"
   ]
  },
  {
   "cell_type": "code",
   "execution_count": 60,
   "metadata": {},
   "outputs": [
    {
     "data": {
      "text/plain": [
       "'Tadepalli, Guntur'"
      ]
     },
     "execution_count": 60,
     "metadata": {},
     "output_type": "execute_result"
    }
   ],
   "source": [
    "std1.collegeAddress"
   ]
  },
  {
   "cell_type": "code",
   "execution_count": 63,
   "metadata": {},
   "outputs": [],
   "source": [
    "class Student:\n",
    "    \"\"\"This is blueprint created for student id card\"\"\"\n",
    "    college = 'APSSDC'\n",
    "    brance = 'Data Science'\n",
    "    collegeAddress = 'Tadepalli, Guntur'\n",
    "    def __init__(self):  # dendur init, constructor, instance method, initializer\n",
    "        print(\"Student object is created\")"
   ]
  },
  {
   "cell_type": "code",
   "execution_count": 64,
   "metadata": {},
   "outputs": [
    {
     "name": "stdout",
     "output_type": "stream",
     "text": [
      "Student object is created\n",
      "Student object is created\n"
     ]
    }
   ],
   "source": [
    "std1 = Student()\n",
    "std2 = Student()"
   ]
  },
  {
   "cell_type": "code",
   "execution_count": 67,
   "metadata": {},
   "outputs": [],
   "source": [
    "class Student:\n",
    "    \"\"\"This is blueprint created for student id card\"\"\"\n",
    "    college = 'APSSDC'\n",
    "    brance = 'Data Science'\n",
    "    collegeAddress = 'Tadepalli, Guntur'\n",
    "    def __init__(self, name, rollNo, mobileNo):  # dendur init, constructor, instance method, initializer\n",
    "        self.name = name\n",
    "        self.rollNo = rollNo\n",
    "        self.mobileNo = mobileNo\n",
    "        print(\"{} object is created\".format(self.name))"
   ]
  },
  {
   "cell_type": "code",
   "execution_count": 68,
   "metadata": {},
   "outputs": [
    {
     "name": "stdout",
     "output_type": "stream",
     "text": [
      "preeti object is created\n",
      "python object is created\n"
     ]
    }
   ],
   "source": [
    "std1 = Student('preeti','12345','9874561230')\n",
    "std2 = Student('python','67890','1234567890')"
   ]
  },
  {
   "cell_type": "code",
   "execution_count": 69,
   "metadata": {},
   "outputs": [
    {
     "data": {
      "text/plain": [
       "'preeti'"
      ]
     },
     "execution_count": 69,
     "metadata": {},
     "output_type": "execute_result"
    }
   ],
   "source": [
    "std1.name"
   ]
  },
  {
   "cell_type": "code",
   "execution_count": 70,
   "metadata": {},
   "outputs": [
    {
     "data": {
      "text/plain": [
       "'9874561230'"
      ]
     },
     "execution_count": 70,
     "metadata": {},
     "output_type": "execute_result"
    }
   ],
   "source": [
    "std1.mobileNo"
   ]
  },
  {
   "cell_type": "code",
   "execution_count": 71,
   "metadata": {},
   "outputs": [
    {
     "data": {
      "text/plain": [
       "('APSSDC', 'Tadepalli, Guntur')"
      ]
     },
     "execution_count": 71,
     "metadata": {},
     "output_type": "execute_result"
    }
   ],
   "source": [
    "std2.college, std1.collegeAddress"
   ]
  },
  {
   "cell_type": "code",
   "execution_count": 72,
   "metadata": {},
   "outputs": [
    {
     "name": "stdout",
     "output_type": "stream",
     "text": [
      "<__main__.Student object at 0x00000245582C19B0> <__main__.Student object at 0x00000245582C1978>\n"
     ]
    }
   ],
   "source": [
    "print(std1,std2)"
   ]
  },
  {
   "cell_type": "code",
   "execution_count": 83,
   "metadata": {},
   "outputs": [],
   "source": [
    "class Student:\n",
    "    \"\"\"This is blueprint created for student id card\"\"\"\n",
    "    college = 'APSSDC'\n",
    "    brance = 'Data Science'\n",
    "    collegeAddress = 'Tadepalli, Guntur'\n",
    "    def __init__(self, name, rollNo, mobileNo, python, java):  # dendur init, constructor, instance method, initializer\n",
    "        self.name = name\n",
    "        self.rollNo = rollNo\n",
    "        self.mobileNo = mobileNo\n",
    "        self.python = python\n",
    "        self.java = java\n",
    "        print(\"{} object is created\".format(self.name))\n",
    "        \n",
    "    def average(self):\n",
    "        avg = (self.python + self.java) / 2\n",
    "        return avg\n",
    "    \n",
    "    def py_status(self):\n",
    "        if self.python > 40 :\n",
    "            print(\"You have passed python subject\")\n",
    "        else:\n",
    "            print(\"You have failed python subject\")\n",
    "            \n",
    "    def java_status(self):\n",
    "        if self.python > 40 :\n",
    "            print(\"You have passed java subject\")\n",
    "        else:\n",
    "            print(\"You have failed java subject\")\n",
    "            "
   ]
  },
  {
   "cell_type": "code",
   "execution_count": 85,
   "metadata": {},
   "outputs": [
    {
     "name": "stdout",
     "output_type": "stream",
     "text": [
      "preeti object is created\n",
      "python object is created\n"
     ]
    }
   ],
   "source": [
    "std1 = Student('preeti','12345','9874561230', 85, 65)\n",
    "std2 = Student('python','67890','1234567890', 65, 85)"
   ]
  },
  {
   "cell_type": "code",
   "execution_count": 86,
   "metadata": {},
   "outputs": [
    {
     "data": {
      "text/plain": [
       "75.0"
      ]
     },
     "execution_count": 86,
     "metadata": {},
     "output_type": "execute_result"
    }
   ],
   "source": [
    "std1.average()"
   ]
  },
  {
   "cell_type": "code",
   "execution_count": 87,
   "metadata": {},
   "outputs": [
    {
     "data": {
      "text/plain": [
       "75.0"
      ]
     },
     "execution_count": 87,
     "metadata": {},
     "output_type": "execute_result"
    }
   ],
   "source": [
    "std2.average()"
   ]
  },
  {
   "cell_type": "code",
   "execution_count": 97,
   "metadata": {},
   "outputs": [],
   "source": [
    "class Student:\n",
    "    \"\"\"This is blueprint created for student id card\"\"\"\n",
    "    college = 'APSSDC'\n",
    "    brance = 'Data Science'\n",
    "    collegeAddress = 'Tadepalli, Guntur'\n",
    "    def __init__(self, name, rollNo, mobileNo, python, java):  # dendur init, constructor, instance method, initializer\n",
    "        self.name = name\n",
    "        self.rollNo = rollNo\n",
    "        self.mobileNo = mobileNo\n",
    "        self.python = python\n",
    "        self.java = java\n",
    "        print(\"{} object is created\".format(self.name))\n",
    "        \n",
    "    def average(self):\n",
    "        avg = (self.python + self.java) / 2\n",
    "        return avg\n",
    "    \n",
    "    def py_status(self, PyaddOn):\n",
    "        self.python += PyaddOn\n",
    "        if self.python >= 40 :\n",
    "            print(\"You have passed python subject\")\n",
    "        else:\n",
    "            print(\"You have failed python subject\")\n",
    "            \n",
    "    def java_status(self, JaddOn):\n",
    "        self.java += JaddOn\n",
    "        if self.python >= 40 :\n",
    "            print(\"You have passed java subject\")\n",
    "        else:\n",
    "            print(\"You have failed java subject\")\n",
    "            "
   ]
  },
  {
   "cell_type": "code",
   "execution_count": 89,
   "metadata": {},
   "outputs": [
    {
     "name": "stdout",
     "output_type": "stream",
     "text": [
      "You have passed java subject\n"
     ]
    }
   ],
   "source": [
    "std1.java_status()"
   ]
  },
  {
   "cell_type": "code",
   "execution_count": 94,
   "metadata": {},
   "outputs": [
    {
     "name": "stdout",
     "output_type": "stream",
     "text": [
      "preeti object is created\n",
      "python object is created\n"
     ]
    }
   ],
   "source": [
    "std1 = Student('preeti','12345','9874561230', 35, 65)\n",
    "std2 = Student('python','67890','1234567890', 65, 25)"
   ]
  },
  {
   "cell_type": "code",
   "execution_count": 98,
   "metadata": {},
   "outputs": [
    {
     "name": "stdout",
     "output_type": "stream",
     "text": [
      "You have passed python subject\n"
     ]
    }
   ],
   "source": [
    "std1.py_status(5)"
   ]
  },
  {
   "cell_type": "code",
   "execution_count": 96,
   "metadata": {},
   "outputs": [
    {
     "data": {
      "text/plain": [
       "40"
      ]
     },
     "execution_count": 96,
     "metadata": {},
     "output_type": "execute_result"
    }
   ],
   "source": [
    "std1.python"
   ]
  },
  {
   "cell_type": "code",
   "execution_count": 99,
   "metadata": {},
   "outputs": [
    {
     "ename": "AttributeError",
     "evalue": "'Student' object has no attribute 'PyaddOn'",
     "output_type": "error",
     "traceback": [
      "\u001b[1;31m---------------------------------------------------------------------------\u001b[0m",
      "\u001b[1;31mAttributeError\u001b[0m                            Traceback (most recent call last)",
      "\u001b[1;32m<ipython-input-99-20e061c2f39b>\u001b[0m in \u001b[0;36m<module>\u001b[1;34m\u001b[0m\n\u001b[1;32m----> 1\u001b[1;33m \u001b[0mstd1\u001b[0m\u001b[1;33m.\u001b[0m\u001b[0mPyaddOn\u001b[0m\u001b[1;33m\u001b[0m\u001b[1;33m\u001b[0m\u001b[0m\n\u001b[0m",
      "\u001b[1;31mAttributeError\u001b[0m: 'Student' object has no attribute 'PyaddOn'"
     ]
    }
   ],
   "source": [
    "std1.PyaddOn"
   ]
  },
  {
   "cell_type": "code",
   "execution_count": 100,
   "metadata": {},
   "outputs": [
    {
     "name": "stdout",
     "output_type": "stream",
     "text": [
      "You have passed python subject\n"
     ]
    }
   ],
   "source": [
    " std2.py_status(0)"
   ]
  },
  {
   "cell_type": "code",
   "execution_count": 101,
   "metadata": {},
   "outputs": [
    {
     "name": "stdout",
     "output_type": "stream",
     "text": [
      "preeti object is created\n",
      "python object is created\n"
     ]
    }
   ],
   "source": [
    "std1 = Student('preeti','12345','9874561230', 35, 65)\n",
    "std2 = Student('python','67890','1234567890', 65, 25)"
   ]
  },
  {
   "cell_type": "code",
   "execution_count": 102,
   "metadata": {},
   "outputs": [],
   "source": [
    "std2.name = 'Data Science'"
   ]
  },
  {
   "cell_type": "code",
   "execution_count": 103,
   "metadata": {},
   "outputs": [
    {
     "data": {
      "text/plain": [
       "'Data Science'"
      ]
     },
     "execution_count": 103,
     "metadata": {},
     "output_type": "execute_result"
    }
   ],
   "source": [
    "std2.name"
   ]
  },
  {
   "cell_type": "code",
   "execution_count": 104,
   "metadata": {},
   "outputs": [
    {
     "name": "stdout",
     "output_type": "stream",
     "text": [
      "<__main__.Student object at 0x00000245582ABA20> <__main__.Student object at 0x00000245582AB828>\n"
     ]
    }
   ],
   "source": [
    "print(std1,std2)"
   ]
  },
  {
   "cell_type": "code",
   "execution_count": 119,
   "metadata": {},
   "outputs": [],
   "source": [
    "class Student:\n",
    "    \"\"\"This is blueprint created for student id card\"\"\"\n",
    "    college = 'APSSDC'\n",
    "    brance = 'Data Science'\n",
    "    collegeAddress = 'Tadepalli, Guntur'\n",
    "    def __init__(self, name, rollNo, mobileNo, python, java):  # dendur init, constructor, instance method, initializer\n",
    "        self.name = name\n",
    "        self.rollNo = rollNo\n",
    "        self.mobileNo = mobileNo\n",
    "        self.python = python\n",
    "        self.java = java\n",
    "        print(\"{} object is created\".format(self.name))\n",
    "        \n",
    "    def average(self):\n",
    "        avg = (self.python + self.java) / 2\n",
    "        return avg\n",
    "    \n",
    "    def py_status(self, PyaddOn):\n",
    "        self.python += PyaddOn\n",
    "        if self.python >= 40 :\n",
    "            print(\"You have passed python subject\")\n",
    "        else:\n",
    "            print(\"You have failed python subject\")\n",
    "            \n",
    "    def java_status(self, JaddOn):\n",
    "        self.java += JaddOn\n",
    "        if self.python >= 40 :\n",
    "            print(\"You have passed java subject\")\n",
    "        else:\n",
    "            print(\"You have failed java subject\")\n",
    "    def __str__(self):\n",
    "        return \"This class belongs to {}\".format(self.name)"
   ]
  },
  {
   "cell_type": "code",
   "execution_count": 120,
   "metadata": {},
   "outputs": [
    {
     "name": "stdout",
     "output_type": "stream",
     "text": [
      "preeti object is created\n",
      "python object is created\n"
     ]
    }
   ],
   "source": [
    "std1 = Student('preeti','12345','9874561230', 35, 65)\n",
    "std2 = Student('python','67890','1234567890', 65, 25)"
   ]
  },
  {
   "cell_type": "code",
   "execution_count": 121,
   "metadata": {},
   "outputs": [
    {
     "name": "stdout",
     "output_type": "stream",
     "text": [
      "This class belongs to preeti This class belongs to python\n"
     ]
    }
   ],
   "source": [
    "print(std1,std2)"
   ]
  },
  {
   "cell_type": "code",
   "execution_count": 122,
   "metadata": {},
   "outputs": [],
   "source": [
    "class Student:\n",
    "    \"\"\"This is blueprint created for student id card\"\"\"\n",
    "    college = 'APSSDC'\n",
    "    brance = 'Data Science'\n",
    "    collegeAddress = 'Tadepalli, Guntur'\n",
    "    def __init__(self, name, rollNo, mobileNo, python, java):  # dendur init, constructor, instance method, initializer\n",
    "        self.name = name\n",
    "        self.rollNo = rollNo\n",
    "        self.mobileNo = mobileNo\n",
    "        self.python = python\n",
    "        self.java = java\n",
    "        print(\"{} object is created\".format(self.name))\n",
    "        \n",
    "    def average(self):\n",
    "        avg = (self.python + self.java) / 2\n",
    "        return avg\n",
    "    \n",
    "    def py_status(self, PyaddOn):\n",
    "        self.python += PyaddOn\n",
    "        if self.python >= 40 :\n",
    "            print(\"You have passed python subject\")\n",
    "        else:\n",
    "            print(\"You have failed python subject\")\n",
    "            \n",
    "    def java_status(self, JaddOn):\n",
    "        self.java += JaddOn\n",
    "        if self.python >= 40 :\n",
    "            print(\"You have passed java subject\")\n",
    "        else:\n",
    "            print(\"You have failed java subject\")\n",
    "    def __str__(self):\n",
    "        return (\"This class belongs to {}\",format(self.name))\n",
    "    def __del__(self): # destructor\n",
    "        print(\"{} data has deleted\".format(self.name()))"
   ]
  },
  {
   "cell_type": "code",
   "execution_count": 123,
   "metadata": {},
   "outputs": [
    {
     "name": "stdout",
     "output_type": "stream",
     "text": [
      "data object is created\n",
      "preeti object is created\n"
     ]
    }
   ],
   "source": [
    "std1 = Student('data','12345','9874561230', 35, 65)\n",
    "std2 = Student('preeti','67890','1234567890', 65, 25)"
   ]
  },
  {
   "cell_type": "code",
   "execution_count": 125,
   "metadata": {},
   "outputs": [
    {
     "data": {
      "text/plain": [
       "<__main__.Student at 0x245582c1080>"
      ]
     },
     "execution_count": 125,
     "metadata": {},
     "output_type": "execute_result"
    }
   ],
   "source": [
    "std1"
   ]
  },
  {
   "cell_type": "markdown",
   "metadata": {},
   "source": [
    "### Types of methods\n",
    "\n",
    "- Instance method\n",
    "- Class methods\n",
    "- Static method"
   ]
  },
  {
   "cell_type": "code",
   "execution_count": 127,
   "metadata": {},
   "outputs": [],
   "source": [
    "class Student:\n",
    "    \"\"\"This is blueprint created for student id card\"\"\"\n",
    "    college = 'APSSDC'\n",
    "    brance = 'Data Science'\n",
    "    collegeAddress = 'Tadepalli, Guntur'\n",
    "    def __init__(self, name, rollNo, mobileNo, python, java):  # dendur init, constructor, instance method, initializer\n",
    "        self.name = name\n",
    "        self.rollNo = rollNo\n",
    "        self.mobileNo = mobileNo\n",
    "        self.python = python\n",
    "        self.java = java\n",
    "        print(\"{} object is created\".format(self.name))\n",
    "        \n",
    "    def average(self):\n",
    "        avg = (self.python + self.java) / 2\n",
    "        return avg\n",
    "    \n",
    "    def py_status(self, PyaddOn):\n",
    "        self.python += PyaddOn\n",
    "        if self.python >= 40 :\n",
    "            print(\"You have passed python subject\")\n",
    "        else:\n",
    "            print(\"You have failed python subject\")\n",
    "            \n",
    "    def java_status(self, JaddOn):\n",
    "        self.java += JaddOn\n",
    "        if self.python >= 40 :\n",
    "            print(\"You have passed java subject\")\n",
    "        else:\n",
    "            print(\"You have failed java subject\")\n",
    "    def __str__(self):\n",
    "        return (\"This class belongs to {}\",format(self.name))\n",
    "    def __del__(self): # destructor\n",
    "        print(\"{} data has deleted\".format(self.name()))\n",
    "        \n",
    "    @staticmethod # decorator -> it takes another function as the arugument\n",
    "    def clgNo():\n",
    "        return 1234567890"
   ]
  },
  {
   "cell_type": "code",
   "execution_count": 128,
   "metadata": {},
   "outputs": [
    {
     "data": {
      "text/plain": [
       "1234567890"
      ]
     },
     "execution_count": 128,
     "metadata": {},
     "output_type": "execute_result"
    }
   ],
   "source": [
    "Student.clgNo()"
   ]
  },
  {
   "cell_type": "code",
   "execution_count": 129,
   "metadata": {},
   "outputs": [],
   "source": [
    "class Student:\n",
    "    \"\"\"This is blueprint created for student id card\"\"\"\n",
    "    college = 'APSSDC'\n",
    "    brance = 'Data Science'\n",
    "    collegeAddress = 'Tadepalli, Guntur'\n",
    "    def __init__(self, name, rollNo, mobileNo, python, java):  # dendur init, constructor, instance method, initializer\n",
    "        self.name = name\n",
    "        self.rollNo = rollNo\n",
    "        self.mobileNo = mobileNo\n",
    "        self.python = python\n",
    "        self.java = java\n",
    "        print(\"{} object is created\".format(self.name))\n",
    "        \n",
    "    def average(self):\n",
    "        avg = (self.python + self.java) / 2\n",
    "        return avg\n",
    "    \n",
    "    def py_status(self, PyaddOn):\n",
    "        self.python += PyaddOn\n",
    "        if self.python >= 40 :\n",
    "            print(\"You have passed python subject\")\n",
    "        else:\n",
    "            print(\"You have failed python subject\")\n",
    "            \n",
    "    def java_status(self, JaddOn):\n",
    "        self.java += JaddOn\n",
    "        if self.python >= 40 :\n",
    "            print(\"You have passed java subject\")\n",
    "        else:\n",
    "            print(\"You have failed java subject\")\n",
    "    def __str__(self):\n",
    "        return (\"This class belongs to {}\",format(self.name))\n",
    "    def __del__(self): # destructor\n",
    "        print(\"{} data has deleted\".format(self.name()))\n",
    "        \n",
    "    @staticmethod # decorator -> it takes another function as the arugument\n",
    "    def clgNo():\n",
    "        return 1234567890\n",
    "    \n",
    "    @classmethod\n",
    "    def ClgName(cls):\n",
    "        return cls.college"
   ]
  },
  {
   "cell_type": "code",
   "execution_count": 130,
   "metadata": {},
   "outputs": [
    {
     "data": {
      "text/plain": [
       "'APSSDC'"
      ]
     },
     "execution_count": 130,
     "metadata": {},
     "output_type": "execute_result"
    }
   ],
   "source": [
    "Student.ClgName()"
   ]
  },
  {
   "cell_type": "markdown",
   "metadata": {},
   "source": [
    "- Encapssulation\n",
    "- Polymorphism\n",
    "- Abstraction\n",
    "- Inheritence\n",
    "    - Types\n",
    "        - multi level\n",
    "        - Hybrid\n",
    "        - Multiple\n",
    "        - Hierarchy\n",
    "    - Operator OverLoading\n",
    "    - Method Overwriting"
   ]
  },
  {
   "cell_type": "code",
   "execution_count": null,
   "metadata": {},
   "outputs": [],
   "source": []
  }
 ],
 "metadata": {
  "kernelspec": {
   "display_name": "Python 3",
   "language": "python",
   "name": "python3"
  },
  "language_info": {
   "codemirror_mode": {
    "name": "ipython",
    "version": 3
   },
   "file_extension": ".py",
   "mimetype": "text/x-python",
   "name": "python",
   "nbconvert_exporter": "python",
   "pygments_lexer": "ipython3",
   "version": "3.7.3"
  }
 },
 "nbformat": 4,
 "nbformat_minor": 2
}
